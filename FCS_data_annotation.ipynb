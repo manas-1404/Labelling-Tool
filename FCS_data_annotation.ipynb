{
 "cells": [
  {
   "cell_type": "markdown",
   "metadata": {},
   "source": [
    "# Annotation tool for scatter plots and image data\n",
    "\n",
    "By: Stefania Russo, Kris Villez\n",
    "Copyright: 2018, distributed with BSD3 license "
   ]
  },
  {
   "cell_type": "markdown",
   "metadata": {},
   "source": [
    "## The challenge\n",
    "\n",
    "In the context of the ADASen project, we want to address research questions regarding the utility of supervised and unsupervised machine learning models in anomaly detection for environmental systems. We have therefore selected a range of anomaly detection methods for benchmarking on data sets produced by six infrastructures at Eawag.\n",
    "\n",
    "Critical to the benchmarking is the availability of fully labelled training and test data sets of normal and abnormal behavior in environmental data. \n",
    "An annotation tool has therefore being developed to perform the labelling procedure.\n",
    "\n",
    "This notebook shows an application of the labelling procedure to flow citometry data. Here, each samples consist of a series of coordinate measurements at a regular time interval. Each coordinate measurement represents a particle sample.\n",
    "\n",
    "## Current method\n",
    "\n",
    "Below are described teh steps for data access, data preparation, visualization and labelling procedure.\n",
    "\n",
    "- It is recommended to have the data organised into folders:\n",
    "    - All the available data files are loaded from the working directory. The data is in the form of .fcs data files, there are many files in different folders. In the loading procedure, a dictionary is created to keep track of the folders containing the data and the file name associated to each flow citometry data set.\n",
    "- Each data files contains several samples. Between the available features only 'FL1-A' and 'FL3-A' are chosen and logaritmic transformation is applied.  \n",
    "- 'FL3-A' vs 'FL1-A' and 'FL3-A' vs Time are visualised\n",
    "- The labelling procedure starts and the first plots are displayed. Each anomaly type is associated to a number. The annotation tool allows the labelling expert to interactivelly select anomaly type by clicking on the keyboard to the associated number and move through the data files and displaying them by clicking the button 'Next' or 'Previous'in the plot.\n",
    "- Each time the button 'Next' is clicked, the selected anomaly type is saved together with the name of the folder containing it and its file name. At the end of the procedure, the user can easily access to the anomaly labels in an easy manner.\n",
    "- **Note**: if the user wants to change any of his selections, he needs to move forward to the next plot by clicking 'Next', perform a selection of the anomalous data, and then go back and restart."
   ]
  },
  {
   "cell_type": "markdown",
   "metadata": {},
   "source": [
    "# Usage\n",
    "\n",
    " - Install python and open this Jupyter notebook \n",
    " - Paste your working directory into path_all\n",
    " - Decide if working with randomised/temporal visualization of plots. To do this: select option Randomised = Yes or Randomised = No\n",
    " - A text file named `Labels.txt` will be saved in the folder containing the data\n",
    " - The script ..... is needed to post-process the text file `Labels.txt` into a more convenient `Labels_postproc.csv` file\n"
   ]
  },
  {
   "cell_type": "markdown",
   "metadata": {},
   "source": [
    "# Anomaly types\n",
    "- 0: Normal behaviour\n",
    "- 1: Anomaly: Oxidation\n",
    "- 2: Anomaly: Poor Staining\n",
    "- 3: Anomaly: Poor Cleaning\n",
    "- 4: Anomaly: Air\n",
    "- 5: Anomaly: Fluidic Problem\n",
    "- 6: Anomaly: PI Contamination\n",
    "- 7: Anomaly: Unsure"
   ]
  },
  {
   "cell_type": "markdown",
   "metadata": {},
   "source": [
    "### Import statements"
   ]
  },
  {
   "cell_type": "code",
   "execution_count": 1,
   "metadata": {},
   "outputs": [
    {
     "name": "stdout",
     "output_type": "stream",
     "text": [
      "All libraries have been loaded.\n"
     ]
    }
   ],
   "source": [
    "%run functions/startup.py\n",
    "random.seed(4)"
   ]
  },
  {
   "cell_type": "code",
   "execution_count": null,
   "metadata": {},
   "outputs": [],
   "source": [
    "path_base = str(Path.cwd())\n",
    "folder = '/data_examples/FCS_data/'  # Select data folder\n",
    "\n",
    "path_all = path_base + folder"
   ]
  },
  {
   "cell_type": "markdown",
   "metadata": {},
   "source": [
    "## Options "
   ]
  },
  {
   "cell_type": "code",
   "execution_count": 3,
   "metadata": {},
   "outputs": [],
   "source": [
    "Randomised = 'No'   \n",
    "Randomised = 'Yes'"
   ]
  },
  {
   "cell_type": "markdown",
   "metadata": {},
   "source": [
    "## Functions\n",
    "\n",
    "Most typically a log-transformation is applied to analyze these data. Since it is typical to have zeros in the data, we apply the transformation $$y \\leftarrow log(|x|+1) \\cdot sign(x)$$"
   ]
  },
  {
   "cell_type": "code",
   "execution_count": 4,
   "metadata": {},
   "outputs": [],
   "source": [
    "def softsign(x):\n",
    "    out = np.log(np.abs(x)+1)*np.sign(x)\n",
    "    return out"
   ]
  },
  {
   "cell_type": "markdown",
   "metadata": {},
   "source": [
    "### Data Loading Non Randomised  - Randomised case \n"
   ]
  },
  {
   "cell_type": "code",
   "execution_count": 5,
   "metadata": {},
   "outputs": [],
   "source": [
    "# Get all the folders in path\n",
    "\n",
    "save_path = path_all     # Destination folder to for saving text file\n",
    "name_of_file = \"Labels\"\n",
    "completeName = os.path.join(save_path, name_of_file+\".txt\") \n",
    "\n",
    "\n",
    "path_dir_all = []\n",
    "fold_paths = []\n",
    "for name in os.listdir(path_all):\n",
    "    if os.path.isdir(os.path.join(path_all, name)):\n",
    "        tmp = path_all + name\n",
    "        path_dir_all.append(tmp)\n",
    "        fold_paths.append(name)"
   ]
  },
  {
   "cell_type": "code",
   "execution_count": 6,
   "metadata": {},
   "outputs": [],
   "source": [
    "fold = []\n",
    "data_fcs = []\n",
    "file_name = []\n",
    "    \n",
    "# Get directories\n",
    "for path in path_dir_all:       # enter into directories\n",
    "    i=0\n",
    "    file_name_tmp = []\n",
    "    for file in os.listdir(path):        # enter into directory files\n",
    "        if file.endswith(\".fcs\"):\n",
    "            file_name_tmp.append(file)\n",
    "            i += 1\n",
    "            if Randomised == 'No':\n",
    "                file_name_tmp = sorted(file_name_tmp)\n",
    "            elif Randomised == 'Yes':\n",
    "                random.shuffle(file_name_tmp)\n",
    "\n",
    "    for fn in file_name_tmp:\n",
    "        new_path = path + '/' + fn\n",
    "        meta, data = fcsparser.parse(new_path, reformat_meta=True)\n",
    "        data.columns = data.columns.astype(str)\n",
    "        data_fcs.append(data)\n",
    "        file_name.append(fn)\n",
    "    a = [path] * i\n",
    "    fold.extend(a)    "
   ]
  },
  {
   "cell_type": "code",
   "execution_count": 7,
   "metadata": {},
   "outputs": [
    {
     "name": "stdout",
     "output_type": "stream",
     "text": [
      "Variables: Index(['FSC-A', 'SSC-A', 'FL1-A', 'FL2-A', 'FL3-A', 'FL4-A', 'FSC-H', 'SSC-H',\n",
      "       'FL1-H', 'FL2-H', 'FL3-H', 'FL4-H', 'Width', 'Time'],\n",
      "      dtype='object')\n",
      "Selected variables: FL1-A , FL3-A\n"
     ]
    }
   ],
   "source": [
    "print('Variables:', pd.DataFrame(data_fcs[0]).keys())\n",
    "sr0 = pd.DataFrame(data_fcs[0]).keys()[2]\n",
    "sr1 = pd.DataFrame(data_fcs[0]).keys()[4]\n",
    "print('Selected variables:',sr0,',', sr1)\n",
    "\n",
    "for i in range(len(file_name)):\n",
    "    file_name[i] = file_name[i].split('.')[0]\n",
    "       \n",
    "    \n",
    "# Get folder names\n",
    "fold_names = []\n",
    "for i in range (len(fold)):\n",
    "    tmp = ((fold[i].split('/'))[-1])\n",
    "    fold_names.append(tmp)\n",
    "\n",
    "\n",
    "for j in range(len(data_fcs)):\n",
    "    data_fcs[j][sr0] = softsign(data_fcs[j][sr0])\n",
    "    data_fcs[j][sr1] = softsign(data_fcs[j][sr1])\n"
   ]
  },
  {
   "cell_type": "markdown",
   "metadata": {},
   "source": [
    "# Label plot sequentially\n"
   ]
  },
  {
   "cell_type": "code",
   "execution_count": 8,
   "metadata": {
    "scrolled": false
   },
   "outputs": [
    {
     "data": {
      "text/plain": [
       "0"
      ]
     },
     "execution_count": 8,
     "metadata": {},
     "output_type": "execute_result"
    },
    {
     "name": "stdout",
     "output_type": "stream",
     "text": [
      "Pressed key =  1\n"
     ]
    }
   ],
   "source": [
    "%matplotlib tk\n",
    "\n",
    "data_all = data_fcs.copy()\n",
    "\n",
    "itera = []\n",
    "for i in range(len(data_all)):\n",
    "    itera.append(i)\n",
    "\n",
    "x = data_all[0][sr0]\n",
    "y = data_all[0][sr1]\n",
    "time = data_all[0]['Time']\n",
    "\n",
    "fig, ax = plt.subplots(nrows=1, ncols=2,figsize=(15,15),gridspec_kw = {'width_ratios':[1, 1]})\n",
    "\n",
    "fig.suptitle(fold_names[0], fontsize=12)\n",
    "\n",
    "plt.subplots_adjust(bottom=0.2)\n",
    "plt.subplots_adjust(left=0.04, bottom=0.2, right=0.98, top=0.87, wspace=0.2 , hspace=0.17 )\n",
    "\n",
    "\n",
    "# Change box color here https://htmlcolorcodes.com/\n",
    "\n",
    "l, = ax[0].plot(x, y, alpha=0.1, color='black', linestyle='None', marker='.')           # first plot\n",
    "ax[0].set_title(file_name[0], fontdict=None, loc='center', pad=None)\n",
    "ax[0].text(11, 0.5, 'Click a number on your keyboard ' '\\n' 'to select between the following ' '\\n' 'anomaly types, then click Next ' '\\n' '\\n' '0: Normal behaviour' '\\n' '1: Anomaly: Oxidation' '\\n' '2: Anomaly: Poor Staining' '\\n' '3: Anomaly: Poor Cleaning' '\\n' '4: Anomaly: Air' '\\n' '5: Anomaly: Fluidic Problem' '\\n' '6: Anomaly: PI Contamination' '\\n''7: Anomaly: Unsure' '\\n''8: Other anomaly type' '\\n', bbox=dict(facecolor='#F1DFE2', alpha=1))\n",
    "#ax[0].set_aspect('equal', adjustable='box', share=True)\n",
    "ax[0].set_xlim([5, 14])\n",
    "ax[0].set_ylim([0, 13])\n",
    "\n",
    "l2, = ax[1].plot(time, y, alpha=0.1, color='black', linestyle='None', marker='.')           # first plot\n",
    "ax[1].set_title(file_name[0], fontdict=None, loc='center', pad=None)\n",
    "\n",
    "############### Presskey widget  ####################\n",
    "\n",
    "pr_key = 0\n",
    "\n",
    "def presskey(event):\n",
    "    print('Pressed key = ', event.key)\n",
    "    #sys.stdout.flush()\n",
    "    \n",
    "    global pr_key\n",
    "    pr_key = event.key\n",
    "    pr_key_str = str( event.key)\n",
    "    pr_key_str_upd = 'Anomaly type = ' + pr_key_str\n",
    "    ax[0].text(5.5, 12, pr_key_str_upd , bbox=dict(facecolor='#F1DFE2', alpha=1))\n",
    "    plt.draw()\n",
    "\n",
    " \n",
    "fig.canvas.mpl_connect('key_press_event',presskey)\n",
    "\n",
    "############### Buttons widget  ####################\n",
    "\n",
    "class Index(object):        \n",
    "    ind = 0\n",
    "\n",
    "    def next(self, event):\n",
    "        self.ind += 1\n",
    "        i = self.ind % len(itera)    # module gives the possibility to start again\n",
    "        ydata1 = data_all[i][sr1]          \n",
    "        xdata1 = data_all[i][sr0] \n",
    "        \n",
    "        timedata1 = data_all[i]['Time']  \n",
    "        \n",
    "        \n",
    "        l.set_ydata(ydata1)\n",
    "        l.set_xdata(xdata1)\n",
    "        l2.set_xdata(timedata1)\n",
    "        l2.set_ydata(ydata1)\n",
    "        \n",
    "        ax[0].set_title(file_name[i], fontdict=None, loc='center', pad=None)\n",
    "        ax[1].set_title(file_name[i], fontdict=None, loc='center', pad=None)\n",
    "        \n",
    "        if (i == (0)):\n",
    "            fig.suptitle('End of data files - restarting with data file ' + file_name[i] + '\\n' + 'in folder ' + fold_names[i], fontsize=12)\n",
    "        else: \n",
    "            fig.suptitle(fold_names[i], fontsize=12)\n",
    "        plt.draw()\n",
    "        \n",
    "        with open(completeName, \"a\") as myfile:\n",
    "            myfile.write(fold_names[i-1] + '/' +  file_name[i-1] + ' ' + 'Anomaly_type:' + ' ' + str(pr_key) +'\\n')   \n",
    "            # save in path_all       \n",
    "\n",
    "            \n",
    "    def prev(self, event):\n",
    "        self.ind -= 1\n",
    "        i = self.ind % len(itera)\n",
    "        \n",
    "        ydata1 = data_all[i][sr1]          \n",
    "        xdata1 = data_all[i][sr0]  \n",
    "        timedata1 = data_all[i]['Time']\n",
    "        folder_name = fold[i]\n",
    "        \n",
    "        l.set_ydata(ydata1)\n",
    "        l.set_xdata(xdata1)\n",
    "        l2.set_xdata(timedata1)\n",
    "        l2.set_ydata(ydata1)\n",
    "        \n",
    "        \n",
    "        #ax[0].set_title(fold[i] + ' ' +  file_name[i], fontdict=None, loc='center', pad=None)\n",
    "        ax[0].set_title(file_name[i], fontdict=None, loc='center', pad=None)\n",
    "        ax[1].set_title(file_name[i], fontdict=None, loc='center', pad=None)\n",
    "        fig.suptitle(fold_names[i], fontsize=12)\n",
    "        plt.draw()\n",
    "\n",
    "callback = Index()\n",
    "\n",
    "############### Connect events  ####################\n",
    "\n",
    "axprev = plt.axes([0.7, 0.05, 0.1, 0.075])\n",
    "axnext = plt.axes([0.81, 0.05, 0.1, 0.075])\n",
    "bnext = Button(axnext, 'Next')\n",
    "bnext.on_clicked(callback.next)\n",
    "bprev = Button(axprev, 'Previous')\n",
    "bprev.on_clicked(callback.prev)\n"
   ]
  }
 ],
 "metadata": {
  "kernelspec": {
   "display_name": "ADAS_env",
   "language": "python",
   "name": "adas_env"
  },
  "language_info": {
   "codemirror_mode": {
    "name": "ipython",
    "version": 3
   },
   "file_extension": ".py",
   "mimetype": "text/x-python",
   "name": "python",
   "nbconvert_exporter": "python",
   "pygments_lexer": "ipython3",
   "version": "3.6.8"
  }
 },
 "nbformat": 4,
 "nbformat_minor": 2
}
