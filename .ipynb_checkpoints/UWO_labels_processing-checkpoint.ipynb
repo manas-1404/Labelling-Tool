{
 "cells": [
  {
   "cell_type": "markdown",
   "metadata": {},
   "source": [
    "# ————————— CASE 1 ----------------------"
   ]
  },
  {
   "cell_type": "code",
   "execution_count": 1,
   "metadata": {},
   "outputs": [
    {
     "name": "stdout",
     "output_type": "stream",
     "text": [
      "All libraries have been loaded.\n"
     ]
    }
   ],
   "source": [
    "# Automatically import the libraries into Jupyter Notebook\n",
    "%run functions/startup.py\n",
    "\n",
    "import missingno as msno\n",
    "\n",
    "from functions.UWO_annotat import Labels_proc"
   ]
  },
  {
   "cell_type": "code",
   "execution_count": 2,
   "metadata": {},
   "outputs": [],
   "source": [
    "lab_p = Labels_proc()"
   ]
  },
  {
   "cell_type": "markdown",
   "metadata": {},
   "source": [
    "### Functions"
   ]
  },
  {
   "cell_type": "code",
   "execution_count": 3,
   "metadata": {},
   "outputs": [],
   "source": [
    "# ADD zeros and ones with dictionary mapping\n",
    "mapper_dict = {'left_only': 0, 'both': 1}\n",
    "def mp(entry):\n",
    "    \"\"\"\n",
    "    maps new values\n",
    "    \"\"\"\n",
    "    return mapper_dict[entry] if entry in mapper_dict else entry\n",
    "mp = np.vectorize(mp)\n",
    "\n",
    "\n",
    "def comp_labs_case1 (data_lab_1, data1_l):\n",
    "    labels_df_1 = pd.merge(data_lab_1,data1_l, on = ['date', 'time'], how='left', indicator=True)\n",
    "    labels_df_1 ['_merge'] = mp(labels_df_1['_merge'])\n",
    "    labels_df_1 = labels_df_1.rename(index=str, columns={\"_merge\": \"Anomaly\"})\n",
    "    \n",
    "    data_1 = labels_df_1.copy()\n",
    "    data_1['datetime'] = pd.to_datetime(labels_df_1['date']+ ' ' + labels_df_1['time'])\n",
    "    data_1.drop_duplicates('datetime',inplace=True)\n",
    "    if data_lab_1.shape[1] == 5:\n",
    "        print('Fraction of collective anomalies bf_03, bf_04:', np.sum(data_1['Anomaly'] ==1)/data_1.shape[0])\n",
    "    else:\n",
    "        print('Fraction of anomalies in ', data_lab_1.keys()[2], ': ', np.sum(data_1['Anomaly'] ==1)/data_1.shape[0])\n",
    "    print('Shape:', data_1.shape)\n",
    "    data_1.reset_index(inplace=True)\n",
    "    \n",
    "    return data_1\n",
    "\n",
    "\n",
    "\n",
    "def comp_labs_case2 (data1_l):\n",
    "\n",
    "    data1_l.drop(['Unnamed: 0'], axis=1, inplace=True)\n",
    "    data1_l['datetime'] = pd.to_datetime(data1_l['date']+ ' ' + data1_l['time'])\n",
    "    data1_l.drop_duplicates('datetime',inplace=True)\n",
    "    \n",
    "    if data1_l.shape[1] == 7:\n",
    "        print('Fraction of collective anomalies:', np.sum(data1_l['Anomaly'] ==1)/data1_l.shape[0])\n",
    "    else:\n",
    "        print('Fraction of anomalies in ', data1_l.keys()[2], ': ', np.sum(data1_l['Anomaly'] ==1)/data1_l.shape[0])\n",
    "    print('Shape:', data1_l.shape)\n",
    "    data1_l.reset_index(inplace=True)\n",
    "    \n",
    "    return data1_l\n"
   ]
  },
  {
   "cell_type": "code",
   "execution_count": null,
   "metadata": {},
   "outputs": [],
   "source": []
  },
  {
   "cell_type": "code",
   "execution_count": 4,
   "metadata": {},
   "outputs": [],
   "source": [
    "# # Remove dates where temporal resolution is wrong\n",
    "\n",
    "# def rem_dates(df2, drop = True):\n",
    "#     # Accessing dates\n",
    "#     i_date = df2.index.get_level_values(0)          # get all dates\n",
    "#     idx_date = np.unique(df2.index.get_level_values(0), return_index=True)[1]      # get index of unique dates\n",
    "#     date_list = i_date[idx_date]   # get list of all dates\n",
    "#     #print('Unique dates:',date_list)\n",
    "\n",
    "#     for pl_i in range(len(date_list)):\n",
    "#         if len(df_bf_00[date_list[pl_i].date()].values) != 288:\n",
    "#             print('Corrupted date:', date_list[pl_i].date())\n",
    "#             print('Corrupted date index:',idx_date[pl_i])\n",
    "#             print('Corrupted date shape:', df2.loc[date_list[pl_i].date()].shape) \n",
    "#             if drop == True:\n",
    "#                 df2.drop(date_list[pl_i].date(),level='date',inplace=True)\n",
    "\n",
    "#     # Get new dates list\n",
    "    \n",
    "#     i_date = df2.index.get_level_values(0)          # get all dates\n",
    "#     idx_date = np.unique(df2.index.get_level_values(0), return_index=True)[1]      # get index of unique dates\n",
    "#     date_list = i_date[idx_date]   # get list of all dates\n",
    "            \n",
    "#     return df2, date_list\n",
    "\n",
    "\n",
    "# # Get date_time\n",
    "# def get_date_time(data_df, sr0, multi = 0):\n",
    "#     if multi == 0:\n",
    "#         data_lab_1 = pd.DataFrame(data_df[sr0])\n",
    "#         data_lab_1 = data_lab_1.reset_index(level=[0,1])\n",
    "#         data_lab_1['date'] = [x.strftime('%Y-%m-%d') for x in (pd.to_datetime([i for i in data_lab_1['date']], format='%Y-%m-%d'))] \n",
    "#         data_lab_1['time'] = [x.strftime('%H:%M:%S') for x in (pd.to_datetime([i for i in data_lab_1['time']], format='%H:%M:%S'))] \n",
    "#     else:\n",
    "#         data_lab_1 = data_df.copy()\n",
    "#         data_lab_1 = data_lab_1.reset_index(level=[0,1])\n",
    "#         data_lab_1['date'] = [x.strftime('%Y-%m-%d') for x in (pd.to_datetime([i for i in data_lab_1['date']], format='%Y-%m-%d'))] \n",
    "#         data_lab_1['time'] = [x.strftime('%H:%M:%S') for x in (pd.to_datetime([i for i in data_lab_1['time']], format='%H:%M:%S'))] \n",
    "        \n",
    "#     return data_lab_1\n",
    "\n",
    "\n",
    "# # ADD zeros and ones with dictionary mapping\n",
    "# mapper_dict = {'left_only': 0, 'both': 1}\n",
    "# def mp(entry):\n",
    "#     \"\"\"\n",
    "#     maps new values\n",
    "#     \"\"\"\n",
    "#     return mapper_dict[entry] if entry in mapper_dict else entry\n",
    "# mp = np.vectorize(mp)\n",
    "\n",
    "\n",
    "# def comp_labs_case1 (data_lab_1, data1_l):\n",
    "#     labels_df_1 = pd.merge(data_lab_1,data1_l, on = ['date', 'time'], how='left', indicator=True)\n",
    "#     labels_df_1 ['_merge'] = mp(labels_df_1['_merge'])\n",
    "#     labels_df_1 = labels_df_1.rename(index=str, columns={\"_merge\": \"Anomaly\"})\n",
    "    \n",
    "#     data_1 = labels_df_1.copy()\n",
    "#     data_1['datetime'] = pd.to_datetime(labels_df_1['date']+ ' ' + labels_df_1['time'])\n",
    "#     data_1.drop_duplicates('datetime',inplace=True)\n",
    "#     if data_lab_1.shape[1] == 5:\n",
    "#         print('Fraction of collective anomalies bf_03, bf_04:', np.sum(data_1['Anomaly'] ==1)/data_1.shape[0])\n",
    "#     else:\n",
    "#         print('Fraction of anomalies in ', data_lab_1.keys()[2], ': ', np.sum(data_1['Anomaly'] ==1)/data_1.shape[0])\n",
    "#     print('Shape:', data_1.shape)\n",
    "#     data_1.reset_index(inplace=True)\n",
    "    \n",
    "#     return data_1\n",
    "\n",
    "\n",
    "\n",
    "# def comp_labs_case2 (data1_l):\n",
    "\n",
    "#     data1_l.drop(['Unnamed: 0'], axis=1, inplace=True)\n",
    "#     data1_l['datetime'] = pd.to_datetime(data1_l['date']+ ' ' + data1_l['time'])\n",
    "#     data1_l.drop_duplicates('datetime',inplace=True)\n",
    "    \n",
    "#     if data1_l.shape[1] == 7:\n",
    "#         print('Fraction of collective anomalies:', np.sum(data1_l['Anomaly'] ==1)/data1_l.shape[0])\n",
    "#     else:\n",
    "#         print('Fraction of anomalies in ', data1_l.keys()[2], ': ', np.sum(data1_l['Anomaly'] ==1)/data1_l.shape[0])\n",
    "#     print('Shape:', data1_l.shape)\n",
    "#     data1_l.reset_index(inplace=True)\n",
    "    \n",
    "#     return data1_l\n",
    "\n",
    "\n",
    "\n",
    "\n",
    "# def save_pkl(name, df):\n",
    "#     file = open(path_base + path_data_processed + name, 'wb')   # open a file, where you want to store the data\n",
    "#     pickle.dump(df, file, protocol=4)   # dump information to that file\n",
    "#     file.close()  \n",
    "    \n"
   ]
  },
  {
   "cell_type": "code",
   "execution_count": 5,
   "metadata": {},
   "outputs": [],
   "source": [
    "# On personal laptop\n",
    "path_base = ('/Users/russoste/Desktop/my_git_repos/00_Data/02_UWO/')\n",
    "path_figures = ('/Users/russoste/Desktop/my_git_repos/00_Data/02_UWO/figures/')\n",
    "path_data_saved = ('/Users/russoste/Desktop/my_git_repos/00_Data/02_UWO/Sup_Unsup_data_saved/')\n",
    "path_data_raw = 'data_raw/'\n",
    "path_data_processed = 'data_processed/'\n"
   ]
  },
  {
   "cell_type": "code",
   "execution_count": 6,
   "metadata": {},
   "outputs": [],
   "source": [
    "# Select Case\n",
    "\n",
    "name_of_file = '181128_trialData_UWOforADASen_case1.csv'\n",
    "labels = 'Labels_1_181128/'\n",
    "name1 = 'Labels_Case1_time_bf_03.csv'\n",
    "name2 = 'Labels_Case1_time_bf_04.csv'\n",
    "#name3 = 'Labels_Case1_time_bl_ce193.csv'\n",
    "name123 = 'Labels_Case1_time_bf_03bf_04bl_ce193.csv'\n",
    "\n"
   ]
  },
  {
   "cell_type": "markdown",
   "metadata": {},
   "source": [
    "# Load, explore and manipulate data"
   ]
  },
  {
   "cell_type": "code",
   "execution_count": 7,
   "metadata": {},
   "outputs": [
    {
     "data": {
      "text/plain": [
       "(14545, 4)"
      ]
     },
     "execution_count": 7,
     "metadata": {},
     "output_type": "execute_result"
    }
   ],
   "source": [
    "completePath = os.path.join(path_base,path_data_raw, name_of_file) \n",
    "df = pd.read_csv(completePath)\n",
    "df.shape"
   ]
  },
  {
   "cell_type": "code",
   "execution_count": 8,
   "metadata": {},
   "outputs": [
    {
     "name": "stdout",
     "output_type": "stream",
     "text": [
      "Sensor names: bf_03 , bf_04 , bl_ce193\n"
     ]
    }
   ],
   "source": [
    "df2 = df.copy(deep=True)\n",
    "df2['date'], df2['time'] = df2['time'].str.split(' ', 1).str\n",
    "\n",
    "sr0 = df2.keys()[1]\n",
    "sr1 = df2.keys()[2]\n",
    "sr2 = df2.keys()[3]\n",
    "print('Sensor names:',sr0,',', sr1,',', sr2)\n",
    "\n",
    "# Create datetime\n",
    "\n",
    "df2['date'] = [x.date() for x in (pd.to_datetime([i for i in df2['date']], format='%Y-%m-%d'))] \n",
    "df2['time'] = [x.time() for x in (pd.to_datetime([i for i in df2['time']], format='%H:%M:%S'))]   # remove primes from the time\n",
    "df1 = df2.copy(deep=True)\n",
    "df2.set_index(['date','time'], inplace=True)\n"
   ]
  },
  {
   "cell_type": "code",
   "execution_count": 9,
   "metadata": {},
   "outputs": [
    {
     "data": {
      "text/plain": [
       "<matplotlib.axes._subplots.AxesSubplot at 0x1a17933828>"
      ]
     },
     "execution_count": 9,
     "metadata": {},
     "output_type": "execute_result"
    },
    {
     "data": {
      "image/png": "[encoded data removed]",
      "text/plain": [
       "<Figure size 1800x720 with 2 Axes>"
      ]
     },
     "metadata": {
      "needs_background": "light"
     },
     "output_type": "display_data"
    }
   ],
   "source": [
    "msno.matrix(df2)"
   ]
  },
  {
   "cell_type": "code",
   "execution_count": 10,
   "metadata": {},
   "outputs": [],
   "source": [
    "df_bf_00 = df2[sr0]\n",
    "df_bf_01 = df2[sr1]\n",
    "df_bf_02 = df2[sr2]"
   ]
  },
  {
   "cell_type": "markdown",
   "metadata": {},
   "source": [
    "### Basic sanity checks"
   ]
  },
  {
   "cell_type": "code",
   "execution_count": 11,
   "metadata": {},
   "outputs": [
    {
     "name": "stdout",
     "output_type": "stream",
     "text": [
      "Corrupted date: 2018-04-25\n",
      "Corrupted date index: 14400\n",
      "Corrupted date shape: (145, 3)\n"
     ]
    }
   ],
   "source": [
    "# Remove dates where temporal resolution is wrong\n",
    "df2, date_list = lab_p.rem_dates(df2, df_bf_00, drop = False)"
   ]
  },
  {
   "cell_type": "code",
   "execution_count": 12,
   "metadata": {},
   "outputs": [],
   "source": [
    "# Get date_time\n",
    "\n",
    "data_df = df2.copy()\n",
    "\n",
    "data_lab_1 = lab_p.get_date_time(data_df, sr0)\n",
    "data_lab_2 = lab_p.get_date_time(data_df, sr1)\n",
    "data_lab_3 = lab_p.get_date_time(data_df, sr2)\n",
    "data_lab_123 = lab_p.get_date_time(data_df, sr0, multi= 1)"
   ]
  },
  {
   "cell_type": "markdown",
   "metadata": {},
   "source": [
    "### Load and compute labels"
   ]
  },
  {
   "cell_type": "code",
   "execution_count": 13,
   "metadata": {},
   "outputs": [],
   "source": [
    "data1_l = pd.read_csv(os.path.join(path_base,path_data_raw, labels,name1))  \n",
    "data2_l = pd.read_csv(os.path.join(path_base,path_data_raw, labels,name2))  \n",
    "data123_l = pd.read_csv(os.path.join(path_base,path_data_raw, labels,name123)) \n",
    "data1_l.drop(['Unnamed: 0', data1_l.keys()[3]], axis=1, inplace=True)\n",
    "data2_l.drop(['Unnamed: 0',data2_l.keys()[3]], axis=1, inplace=True)\n",
    "data123_l.drop(['Unnamed: 0',data123_l.keys()[3],data123_l.keys()[4],data123_l.keys()[5]], axis=1, inplace=True)"
   ]
  },
  {
   "cell_type": "code",
   "execution_count": 14,
   "metadata": {},
   "outputs": [
    {
     "name": "stdout",
     "output_type": "stream",
     "text": [
      "Fraction of anomalies in  bf_03 :  0.0016500515641113785\n",
      "Shape: (14545, 5)\n",
      "Fraction of anomalies in  bf_04 :  0.01876933654176693\n",
      "Shape: (14545, 5)\n",
      "Fraction of collective anomalies bf_03, bf_04: 0.15757992437263665\n",
      "Shape: (14545, 7)\n"
     ]
    }
   ],
   "source": [
    "data_1 = comp_labs_case1 (data_lab_1, data1_l)\n",
    "data_2 = comp_labs_case1 (data_lab_2, data2_l)\n",
    "data_123 = comp_labs_case1 (data_lab_123, data123_l)"
   ]
  },
  {
   "cell_type": "code",
   "execution_count": 15,
   "metadata": {},
   "outputs": [
    {
     "data": {
      "text/html": [
       "<div>\n",
       "<style scoped>\n",
       "    .dataframe tbody tr th:only-of-type {\n",
       "        vertical-align: middle;\n",
       "    }\n",
       "\n",
       "    .dataframe tbody tr th {\n",
       "        vertical-align: top;\n",
       "    }\n",
       "\n",
       "    .dataframe thead th {\n",
       "        text-align: right;\n",
       "    }\n",
       "</style>\n",
       "<table border=\"1\" class=\"dataframe\">\n",
       "  <thead>\n",
       "    <tr style=\"text-align: right;\">\n",
       "      <th></th>\n",
       "      <th>index</th>\n",
       "      <th>date</th>\n",
       "      <th>time</th>\n",
       "      <th>bf_03</th>\n",
       "      <th>Anomaly</th>\n",
       "      <th>datetime</th>\n",
       "    </tr>\n",
       "  </thead>\n",
       "  <tbody>\n",
       "    <tr>\n",
       "      <th>0</th>\n",
       "      <td>0</td>\n",
       "      <td>2018-03-06</td>\n",
       "      <td>00:00:00</td>\n",
       "      <td>8.004582</td>\n",
       "      <td>0</td>\n",
       "      <td>2018-03-06 00:00:00</td>\n",
       "    </tr>\n",
       "    <tr>\n",
       "      <th>1</th>\n",
       "      <td>1</td>\n",
       "      <td>2018-03-06</td>\n",
       "      <td>00:05:00</td>\n",
       "      <td>7.055569</td>\n",
       "      <td>0</td>\n",
       "      <td>2018-03-06 00:05:00</td>\n",
       "    </tr>\n",
       "    <tr>\n",
       "      <th>2</th>\n",
       "      <td>2</td>\n",
       "      <td>2018-03-06</td>\n",
       "      <td>00:10:00</td>\n",
       "      <td>10.157906</td>\n",
       "      <td>0</td>\n",
       "      <td>2018-03-06 00:10:00</td>\n",
       "    </tr>\n",
       "    <tr>\n",
       "      <th>3</th>\n",
       "      <td>3</td>\n",
       "      <td>2018-03-06</td>\n",
       "      <td>00:15:00</td>\n",
       "      <td>7.669649</td>\n",
       "      <td>0</td>\n",
       "      <td>2018-03-06 00:15:00</td>\n",
       "    </tr>\n",
       "    <tr>\n",
       "      <th>4</th>\n",
       "      <td>4</td>\n",
       "      <td>2018-03-06</td>\n",
       "      <td>00:20:00</td>\n",
       "      <td>7.718203</td>\n",
       "      <td>0</td>\n",
       "      <td>2018-03-06 00:20:00</td>\n",
       "    </tr>\n",
       "  </tbody>\n",
       "</table>\n",
       "</div>"
      ],
      "text/plain": [
       "  index        date      time      bf_03  Anomaly            datetime\n",
       "0     0  2018-03-06  00:00:00   8.004582        0 2018-03-06 00:00:00\n",
       "1     1  2018-03-06  00:05:00   7.055569        0 2018-03-06 00:05:00\n",
       "2     2  2018-03-06  00:10:00  10.157906        0 2018-03-06 00:10:00\n",
       "3     3  2018-03-06  00:15:00   7.669649        0 2018-03-06 00:15:00\n",
       "4     4  2018-03-06  00:20:00   7.718203        0 2018-03-06 00:20:00"
      ]
     },
     "execution_count": 15,
     "metadata": {},
     "output_type": "execute_result"
    }
   ],
   "source": [
    "data_1.head()"
   ]
  },
  {
   "cell_type": "markdown",
   "metadata": {},
   "source": [
    "### check if dates coincide and how many anomalies are different"
   ]
  },
  {
   "cell_type": "code",
   "execution_count": 16,
   "metadata": {},
   "outputs": [
    {
     "name": "stdout",
     "output_type": "stream",
     "text": [
      "True\n",
      "True\n"
     ]
    }
   ],
   "source": [
    "print(data_1.shape[0] == (np.sum(data_1.datetime == data_2.datetime)))\n",
    "print(data_123.shape[0] == (np.sum(data_123.datetime == data_2.datetime)))"
   ]
  },
  {
   "cell_type": "markdown",
   "metadata": {},
   "source": [
    "### merge anomalies"
   ]
  },
  {
   "cell_type": "code",
   "execution_count": 17,
   "metadata": {},
   "outputs": [],
   "source": [
    "TT = data_1.Anomaly + data_2.Anomaly + data_123.Anomaly\n",
    "for i, x in enumerate(TT):\n",
    "    if x >= 1: TT[i] = 1"
   ]
  },
  {
   "cell_type": "code",
   "execution_count": 18,
   "metadata": {},
   "outputs": [
    {
     "data": {
      "text/html": [
       "<div>\n",
       "<style scoped>\n",
       "    .dataframe tbody tr th:only-of-type {\n",
       "        vertical-align: middle;\n",
       "    }\n",
       "\n",
       "    .dataframe tbody tr th {\n",
       "        vertical-align: top;\n",
       "    }\n",
       "\n",
       "    .dataframe thead th {\n",
       "        text-align: right;\n",
       "    }\n",
       "</style>\n",
       "<table border=\"1\" class=\"dataframe\">\n",
       "  <thead>\n",
       "    <tr style=\"text-align: right;\">\n",
       "      <th></th>\n",
       "      <th>datetime</th>\n",
       "      <th>bf_03</th>\n",
       "      <th>bf_04</th>\n",
       "      <th>bl_ce193</th>\n",
       "      <th>Tot_anomalies</th>\n",
       "    </tr>\n",
       "  </thead>\n",
       "  <tbody>\n",
       "    <tr>\n",
       "      <th>0</th>\n",
       "      <td>2018-03-06 00:00:00</td>\n",
       "      <td>8.004582</td>\n",
       "      <td>1.466</td>\n",
       "      <td>NaN</td>\n",
       "      <td>0</td>\n",
       "    </tr>\n",
       "    <tr>\n",
       "      <th>1</th>\n",
       "      <td>2018-03-06 00:05:00</td>\n",
       "      <td>7.055569</td>\n",
       "      <td>1.670</td>\n",
       "      <td>NaN</td>\n",
       "      <td>0</td>\n",
       "    </tr>\n",
       "    <tr>\n",
       "      <th>2</th>\n",
       "      <td>2018-03-06 00:10:00</td>\n",
       "      <td>10.157906</td>\n",
       "      <td>NaN</td>\n",
       "      <td>NaN</td>\n",
       "      <td>0</td>\n",
       "    </tr>\n",
       "    <tr>\n",
       "      <th>3</th>\n",
       "      <td>2018-03-06 00:15:00</td>\n",
       "      <td>7.669649</td>\n",
       "      <td>1.670</td>\n",
       "      <td>NaN</td>\n",
       "      <td>0</td>\n",
       "    </tr>\n",
       "    <tr>\n",
       "      <th>4</th>\n",
       "      <td>2018-03-06 00:20:00</td>\n",
       "      <td>7.718203</td>\n",
       "      <td>NaN</td>\n",
       "      <td>NaN</td>\n",
       "      <td>0</td>\n",
       "    </tr>\n",
       "  </tbody>\n",
       "</table>\n",
       "</div>"
      ],
      "text/plain": [
       "             datetime      bf_03  bf_04  bl_ce193  Tot_anomalies\n",
       "0 2018-03-06 00:00:00   8.004582  1.466       NaN              0\n",
       "1 2018-03-06 00:05:00   7.055569  1.670       NaN              0\n",
       "2 2018-03-06 00:10:00  10.157906    NaN       NaN              0\n",
       "3 2018-03-06 00:15:00   7.669649  1.670       NaN              0\n",
       "4 2018-03-06 00:20:00   7.718203    NaN       NaN              0"
      ]
     },
     "execution_count": 18,
     "metadata": {},
     "output_type": "execute_result"
    }
   ],
   "source": [
    "list_df = list(zip(data_123.datetime, data_123.bf_03, data_123.bf_04, data_123.bl_ce193, TT))\n",
    "\n",
    "merg_data_df = pd.DataFrame(list_df, columns=['datetime', 'bf_03', 'bf_04', 'bl_ce193','Tot_anomalies'])\n",
    "\n",
    "merg_data_df.head()"
   ]
  },
  {
   "cell_type": "code",
   "execution_count": 19,
   "metadata": {},
   "outputs": [
    {
     "name": "stdout",
     "output_type": "stream",
     "text": [
      "Fraction of combined anomalies:  0.1753867308353386\n"
     ]
    }
   ],
   "source": [
    "print('Fraction of combined anomalies: ', np.sum(TT)/merg_data_df.shape[0])"
   ]
  },
  {
   "cell_type": "markdown",
   "metadata": {},
   "source": [
    "## Save data"
   ]
  },
  {
   "cell_type": "code",
   "execution_count": 24,
   "metadata": {},
   "outputs": [],
   "source": [
    "# # Save data as pickle\n",
    "\n",
    "name = 'UWO_Anomaly_collective_case1' \n",
    "lab_p.save_pkl(name,  path_base, path_data_processed, merg_data_df)\n"
   ]
  },
  {
   "cell_type": "code",
   "execution_count": 20,
   "metadata": {},
   "outputs": [],
   "source": [
    "data_1 = lab_p.rearr_cols(data_1)\n",
    "data_2 = lab_p.rearr_cols(data_2)\n",
    "data_123 = lab_p.rearr_cols(data_123)"
   ]
  },
  {
   "cell_type": "code",
   "execution_count": 27,
   "metadata": {},
   "outputs": [],
   "source": [
    "# # Save data as pickle\n",
    "\n",
    "name1 = 'bf_03_Anomaly' \n",
    "name2 = 'bf_04_Anomaly' \n",
    "name3 = 'bf_03_bf_04_bl_ce193_Anomaly' \n",
    "\n",
    "lab_p.save_pkl(name1,  path_base, path_data_processed, data_1)\n",
    "lab_p.save_pkl(name2, path_base, path_data_processed, data_2)\n",
    "lab_p.save_pkl(name3,  path_base, path_data_processed, data_123)\n"
   ]
  },
  {
   "cell_type": "markdown",
   "metadata": {},
   "source": [
    "# ————————— CASE 2 ----------------------"
   ]
  },
  {
   "cell_type": "code",
   "execution_count": 21,
   "metadata": {},
   "outputs": [],
   "source": [
    "# Select Case\n",
    "\n",
    "name_of_file = '181128_trialData_UWOforADASen_case2.csv'\n",
    "labels = 'Labels_2_181128/'\n",
    "\n",
    "name1 = 'Labels_2_Anomaly_bf_07.csv'\n",
    "name2 = 'Labels_2_Anomaly_bf_08.csv'\n",
    "name3 = 'Labels_2_Anomaly_bl_ceb60.csv'\n",
    "name123 = 'Labels_2_Anomaly_bf_07bl_ceb60bf_08.csv'"
   ]
  },
  {
   "cell_type": "markdown",
   "metadata": {},
   "source": [
    "# Load, explore and manipulate data"
   ]
  },
  {
   "cell_type": "code",
   "execution_count": 22,
   "metadata": {},
   "outputs": [
    {
     "data": {
      "text/plain": [
       "(20981, 4)"
      ]
     },
     "execution_count": 22,
     "metadata": {},
     "output_type": "execute_result"
    }
   ],
   "source": [
    "completePath = os.path.join(path_base,path_data_raw, name_of_file) \n",
    "df = pd.read_csv(completePath)\n",
    "df.shape"
   ]
  },
  {
   "cell_type": "code",
   "execution_count": 23,
   "metadata": {},
   "outputs": [
    {
     "name": "stdout",
     "output_type": "stream",
     "text": [
      "Sensor names: bf_07 , bl_ceb60 , bf_08\n"
     ]
    }
   ],
   "source": [
    "df2 = df.copy(deep=True)\n",
    "df2['date'], df2['time'] = df2['time'].str.split(' ', 1).str\n",
    "\n",
    "sr0 = df2.keys()[1]\n",
    "sr1 = df2.keys()[2]\n",
    "sr2 = df2.keys()[3]\n",
    "print('Sensor names:',sr0,',', sr1,',', sr2)\n",
    "\n",
    "# Create datetime\n",
    "\n",
    "df2['date'] = [x.date() for x in (pd.to_datetime([i for i in df2['date']], format='%Y-%m-%d'))] \n",
    "df2['time'] = [x.time() for x in (pd.to_datetime([i for i in df2['time']], format='%H:%M:%S'))]   # remove primes from the time\n",
    "#df1 = df2.copy(deep=True)\n",
    "df2.set_index(['date','time'], inplace=True)\n"
   ]
  },
  {
   "cell_type": "code",
   "execution_count": 24,
   "metadata": {},
   "outputs": [
    {
     "data": {
      "text/plain": [
       "<matplotlib.axes._subplots.AxesSubplot at 0x1a1b521f98>"
      ]
     },
     "execution_count": 24,
     "metadata": {},
     "output_type": "execute_result"
    },
    {
     "data": {
      "image/png": "[encoded data removed]",
      "text/plain": [
       "<Figure size 1800x720 with 2 Axes>"
      ]
     },
     "metadata": {
      "needs_background": "light"
     },
     "output_type": "display_data"
    }
   ],
   "source": [
    "msno.matrix(df2)"
   ]
  },
  {
   "cell_type": "code",
   "execution_count": 25,
   "metadata": {},
   "outputs": [],
   "source": [
    "df_bf_00 = df2[sr0]\n",
    "df_bf_01 = df2[sr1]\n",
    "df_bf_02 = df2[sr2]"
   ]
  },
  {
   "cell_type": "markdown",
   "metadata": {},
   "source": [
    "### Basic sanity checks"
   ]
  },
  {
   "cell_type": "code",
   "execution_count": 27,
   "metadata": {},
   "outputs": [
    {
     "name": "stdout",
     "output_type": "stream",
     "text": [
      "Corrupted date: 2018-10-16\n",
      "Corrupted date index: 12960\n",
      "Corrupted date shape: (290, 3)\n",
      "Corrupted date: 2018-11-12\n",
      "Corrupted date index: 20738\n",
      "Corrupted date shape: (243, 3)\n"
     ]
    }
   ],
   "source": [
    "# Remove dates where temporal resolution is wrong\n",
    "df2, date_list = lab_p.rem_dates(df2,df_bf_00, drop = False)"
   ]
  },
  {
   "cell_type": "code",
   "execution_count": 28,
   "metadata": {},
   "outputs": [],
   "source": [
    "# Get date_time\n",
    "\n",
    "data_df = df2.copy()\n",
    "\n",
    "data_lab_1 = lab_p.get_date_time(data_df, sr0)\n",
    "data_lab_2 = lab_p.get_date_time(data_df, sr1)\n",
    "data_lab_3 = lab_p.get_date_time(data_df, sr2)\n",
    "data_lab_123 = lab_p.get_date_time(data_df, sr0, multi= 1)"
   ]
  },
  {
   "cell_type": "markdown",
   "metadata": {},
   "source": [
    "### Load and compute labels"
   ]
  },
  {
   "cell_type": "code",
   "execution_count": 29,
   "metadata": {},
   "outputs": [],
   "source": [
    "data1_l = pd.read_csv(os.path.join(path_base,path_data_raw, labels,name1))  \n",
    "data2_l = pd.read_csv(os.path.join(path_base,path_data_raw, labels,name2))  \n",
    "data3_l = pd.read_csv(os.path.join(path_base,path_data_raw, labels,name3))  \n",
    "data123_l = pd.read_csv(os.path.join(path_base,path_data_raw, labels,name123)) \n"
   ]
  },
  {
   "cell_type": "code",
   "execution_count": 30,
   "metadata": {},
   "outputs": [
    {
     "data": {
      "text/plain": [
       "(20981, 5)"
      ]
     },
     "execution_count": 30,
     "metadata": {},
     "output_type": "execute_result"
    }
   ],
   "source": [
    "data1_l.shape"
   ]
  },
  {
   "cell_type": "code",
   "execution_count": 31,
   "metadata": {},
   "outputs": [
    {
     "name": "stdout",
     "output_type": "stream",
     "text": [
      "Fraction of anomalies in  bf_07 :  0.0\n",
      "Shape: (20979, 5)\n",
      "Fraction of anomalies in  bf_08 :  0.000429000429000429\n",
      "Shape: (20979, 5)\n",
      "Fraction of anomalies in  bl_ceb60 :  0.0\n",
      "Shape: (20979, 5)\n",
      "Fraction of collective anomalies: 0.2280375613708947\n",
      "Shape: (20979, 7)\n"
     ]
    }
   ],
   "source": [
    "data_1 = comp_labs_case2 (data1_l)\n",
    "data_2 = comp_labs_case2 (data2_l)\n",
    "data_3 = comp_labs_case2 (data3_l)\n",
    "data_123 = comp_labs_case2 (data123_l)"
   ]
  },
  {
   "cell_type": "markdown",
   "metadata": {},
   "source": [
    "### check if dates coincide and how many anomalies are differentm"
   ]
  },
  {
   "cell_type": "code",
   "execution_count": 32,
   "metadata": {},
   "outputs": [
    {
     "name": "stdout",
     "output_type": "stream",
     "text": [
      "True\n",
      "True\n",
      "True\n"
     ]
    }
   ],
   "source": [
    "print(data_1.shape[0] == (np.sum(data_1.datetime == data_2.datetime)))\n",
    "print(data_3.shape[0] == (np.sum(data_3.datetime == data_2.datetime)))\n",
    "print(data_123.shape[0] == (np.sum(data_123.datetime == data_2.datetime)))"
   ]
  },
  {
   "cell_type": "markdown",
   "metadata": {},
   "source": [
    "### merge anomalies"
   ]
  },
  {
   "cell_type": "code",
   "execution_count": 33,
   "metadata": {},
   "outputs": [],
   "source": [
    "TT = data_1.Anomaly + data_2.Anomaly +  data_3.Anomaly + data_123.Anomaly\n",
    "for i, x in enumerate(TT):\n",
    "    if x >= 1: TT[i] = 1"
   ]
  },
  {
   "cell_type": "code",
   "execution_count": 34,
   "metadata": {},
   "outputs": [
    {
     "data": {
      "text/html": [
       "<div>\n",
       "<style scoped>\n",
       "    .dataframe tbody tr th:only-of-type {\n",
       "        vertical-align: middle;\n",
       "    }\n",
       "\n",
       "    .dataframe tbody tr th {\n",
       "        vertical-align: top;\n",
       "    }\n",
       "\n",
       "    .dataframe thead th {\n",
       "        text-align: right;\n",
       "    }\n",
       "</style>\n",
       "<table border=\"1\" class=\"dataframe\">\n",
       "  <thead>\n",
       "    <tr style=\"text-align: right;\">\n",
       "      <th></th>\n",
       "      <th>datetime</th>\n",
       "      <th>bf_07</th>\n",
       "      <th>bl_ceb60</th>\n",
       "      <th>bf_08</th>\n",
       "      <th>Tot_anomalies</th>\n",
       "    </tr>\n",
       "  </thead>\n",
       "  <tbody>\n",
       "    <tr>\n",
       "      <th>0</th>\n",
       "      <td>2018-09-01 00:00:00</td>\n",
       "      <td>NaN</td>\n",
       "      <td>19.916871</td>\n",
       "      <td>NaN</td>\n",
       "      <td>0</td>\n",
       "    </tr>\n",
       "    <tr>\n",
       "      <th>1</th>\n",
       "      <td>2018-09-01 00:05:00</td>\n",
       "      <td>NaN</td>\n",
       "      <td>19.908271</td>\n",
       "      <td>NaN</td>\n",
       "      <td>0</td>\n",
       "    </tr>\n",
       "    <tr>\n",
       "      <th>2</th>\n",
       "      <td>2018-09-01 00:10:00</td>\n",
       "      <td>NaN</td>\n",
       "      <td>19.790993</td>\n",
       "      <td>NaN</td>\n",
       "      <td>0</td>\n",
       "    </tr>\n",
       "    <tr>\n",
       "      <th>3</th>\n",
       "      <td>2018-09-01 00:15:00</td>\n",
       "      <td>NaN</td>\n",
       "      <td>19.933870</td>\n",
       "      <td>NaN</td>\n",
       "      <td>0</td>\n",
       "    </tr>\n",
       "    <tr>\n",
       "      <th>4</th>\n",
       "      <td>2018-09-01 00:20:00</td>\n",
       "      <td>NaN</td>\n",
       "      <td>18.531899</td>\n",
       "      <td>NaN</td>\n",
       "      <td>0</td>\n",
       "    </tr>\n",
       "  </tbody>\n",
       "</table>\n",
       "</div>"
      ],
      "text/plain": [
       "             datetime  bf_07   bl_ceb60  bf_08  Tot_anomalies\n",
       "0 2018-09-01 00:00:00    NaN  19.916871    NaN              0\n",
       "1 2018-09-01 00:05:00    NaN  19.908271    NaN              0\n",
       "2 2018-09-01 00:10:00    NaN  19.790993    NaN              0\n",
       "3 2018-09-01 00:15:00    NaN  19.933870    NaN              0\n",
       "4 2018-09-01 00:20:00    NaN  18.531899    NaN              0"
      ]
     },
     "execution_count": 34,
     "metadata": {},
     "output_type": "execute_result"
    }
   ],
   "source": [
    "list_df = list(zip(data_123.datetime, data_123.bf_07, data_123.bl_ceb60, data_123.bf_08, TT))\n",
    "\n",
    "merg_data_df = pd.DataFrame(list_df, columns=['datetime', 'bf_07', 'bl_ceb60', 'bf_08','Tot_anomalies'])\n",
    "\n",
    "merg_data_df.head()"
   ]
  },
  {
   "cell_type": "code",
   "execution_count": 35,
   "metadata": {},
   "outputs": [
    {
     "name": "stdout",
     "output_type": "stream",
     "text": [
      "Fraction of combined anomalies:  0.22846656179989513\n"
     ]
    }
   ],
   "source": [
    "print('Fraction of combined anomalies: ', np.sum(TT)/merg_data_df.shape[0])"
   ]
  },
  {
   "cell_type": "markdown",
   "metadata": {},
   "source": [
    "## Save data"
   ]
  },
  {
   "cell_type": "code",
   "execution_count": 22,
   "metadata": {},
   "outputs": [],
   "source": [
    "# # Save data as pickle\n",
    "\n",
    "name = 'UWO_Anomaly_collective_case2' \n",
    "lab_p.save_pkl(name,  path_base, path_data_processed, merg_data_df)\n"
   ]
  },
  {
   "cell_type": "code",
   "execution_count": 36,
   "metadata": {},
   "outputs": [],
   "source": [
    "data_1 = lab_p.rearr_cols(data_1)\n",
    "data_2 = lab_p.rearr_cols(data_2)\n",
    "data_3 = lab_p.rearr_cols(data_3)\n",
    "data_123 = lab_p.rearr_cols(data_123)"
   ]
  },
  {
   "cell_type": "code",
   "execution_count": 25,
   "metadata": {},
   "outputs": [],
   "source": [
    "# # Save data as pickle\n",
    "\n",
    "name1 = 'bf_07_Anomaly' \n",
    "name2 = 'bf_08_Anomaly' \n",
    "name3 = 'bl_ceb60_Anomaly'\n",
    "name4 = 'bf_07_bl_ceb60_bf_08_Anomaly' \n",
    "\n",
    "lab_p.save_pkl(name1,  path_base, path_data_processed, data_1)\n",
    "lab_p.save_pkl(name2,  path_base, path_data_processed, data_2)\n",
    "lab_p.save_pkl(name3,  path_base, path_data_processed, data_3)\n",
    "lab_p.save_pkl(name4,  path_base, path_data_processed, data_123)\n"
   ]
  },
  {
   "cell_type": "code",
   "execution_count": null,
   "metadata": {},
   "outputs": [],
   "source": []
  }
 ],
 "metadata": {
  "kernelspec": {
   "display_name": "ML_env",
   "language": "python",
   "name": "ml_env"
  },
  "language_info": {
   "codemirror_mode": {
    "name": "ipython",
    "version": 3
   },
   "file_extension": ".py",
   "mimetype": "text/x-python",
   "name": "python",
   "nbconvert_exporter": "python",
   "pygments_lexer": "ipython3",
   "version": "3.7.3"
  }
 },
 "nbformat": 4,
 "nbformat_minor": 2
}
