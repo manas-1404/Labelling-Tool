{
 "cells": [
  {
   "cell_type": "markdown",
   "metadata": {},
   "source": [
    "# Annotation tool for time series data\n",
    "\n",
    "By: Stefania Russo, Kris Villez\n",
    "Copyright: 2018, distributed with BSD3 license "
   ]
  },
  {
   "cell_type": "markdown",
   "metadata": {},
   "source": [
    "# Usage\n",
    "- Create folder called \"labels\" into each case folder\n",
    "- Change path of  working directory path_all\n",
    "- Select Case (1 or 2)\n",
    "- Select data file name_of_file\n",
    "- Run the cells\n",
    "- After performing the annotation, close the plot and run the last cell 'Save labelled data'\n",
    "- Note: if the user wants to change any of his selections, he needs to move forward to the next plot by clicking 'Next', perform a selection of the anomalous data, and then go back and restart.\n"
   ]
  },
  {
   "cell_type": "markdown",
   "metadata": {},
   "source": [
    "## The challenge\n",
    "\n",
    "In the context of the ADASen project, we want to address research questions regarding the utility of supervised and unsupervised machine learning models in anomaly detection for environmental systems. We have therefore selected a range of anomaly detection methods for benchmarking on data sets produced by six infrastructures at Eawag.\n",
    "\n",
    "Critical to the benchmarking is the availability of fully labelled training and test data sets of normal and abnormal behavior in environmental data. \n",
    "An annotation tool has therefore being developed to perform the labelling procedure.\n",
    "\n",
    "This notebook shows an application of the labelling procedure to time series data. Here, each time series is a univariate 24h signal from ......\n",
    "\n",
    "Each series is visualised as a 24h time series.\n",
    "\n",
    "## Current method\n",
    "\n",
    "Below are described the steps for data access, data preparation, visualization and labelling procedure.\n",
    "\n",
    "- The data is in the form of .csv data files. Each data file consists of many 24h sets across 2 sensors.\n",
    "\n",
    "    - if missing values are already replaced with NaNs\n",
    "    - If none, replace missing values with NaNs\n",
    "    - Decide if removing dates with Missing Values\n",
    "    - Perform Annotation\n",
    "\n",
    "- The labelling procedure starts and the first plots are displayed. The 3 plots at the top are univariate sensor signals, where the bottom plot shows a collection of these signals.  \n",
    "\n",
    "- The annotation tool allows the labelling expert to interactivelly select multiple portions of the time series by moving through the data with the mouse cursor.\n",
    "\n",
    "- Each time the button 'Next' is clicked, all the selected areas (time index and sensor value) are saved together with information about the date stamp date. At the end of the procedure, the user can easily access to the anomaly labels in an easy manner.\n",
    "\n",
    "- When the process is over, the plots need to be closed and then the cell 'Save labelled data' hs to be run \n",
    "\n",
    "- Note: if the user wants to change any of his selections, he needs to move forward to the next plot by clicking 'Next', perform a selection of the anomalous data, and then go back and restart.\n",
    "\n",
    "\n",
    " \n",
    "# NOTE: \n",
    "## This is an alpha version of the labelling tool! Please provide any feedback\n",
    "\n",
    "\n"
   ]
  },
  {
   "cell_type": "markdown",
   "metadata": {},
   "source": [
    "# Iniziatization"
   ]
  },
  {
   "cell_type": "code",
   "execution_count": 16,
   "metadata": {},
   "outputs": [],
   "source": [
    "# Import Statements\n",
    "\n",
    "import os\n",
    "import numpy as np\n",
    "import pandas as pd\n",
    "import csv\n",
    "import datetime as dt\n",
    "import matplotlib.pyplot as plt\n",
    "import matplotlib.pylab as pl\n",
    "import matplotlib.gridspec as gridspec\n",
    "from matplotlib.widgets import Button\n",
    "from matplotlib.widgets import SpanSelector\n",
    "import itertools\n",
    "from sklearn import preprocessing\n",
    "import seaborn as sns\n",
    "import datetime as datetime\n",
    "from datetime import timedelta\n",
    "\n"
   ]
  },
  {
   "cell_type": "markdown",
   "metadata": {},
   "source": [
    "### Options"
   ]
  },
  {
   "cell_type": "code",
   "execution_count": 17,
   "metadata": {},
   "outputs": [],
   "source": [
    "# Windows server: \n",
    "# path_all = ('//eaw-depts/eng$/IngData/StefaniaRusso/NEST/')\n",
    "\n",
    "# iOS server: \n",
    "#path_all = (\"/Volumes/NEST/\")\n",
    "\n",
    "# On personal laptop\n",
    "path_all = ('/Users/russoste/Desktop/NEST/Data/months/')\n",
    "\n",
    "\n",
    "save_path = path_all     # Destination folder to for labelled data"
   ]
  },
  {
   "cell_type": "code",
   "execution_count": 18,
   "metadata": {},
   "outputs": [],
   "source": [
    "# Select Case\n",
    "Case = 1     # case 1: GAK (p3,p4),       case 2: Pressure T1 T2 (p1,p2)\n",
    "\n",
    "if Case == 1:\n",
    "    folder = 'data_pressure_sensor_GAK/'\n",
    "    \n",
    "if Case == 2:\n",
    "    folder = 'data_pressure_sensors_T1_T2/' \n",
    "    \n",
    "    \n",
    "    \n",
    "# Select data file    \n",
    "name_of_file = '08_August 2018'\n"
   ]
  },
  {
   "cell_type": "code",
   "execution_count": 19,
   "metadata": {},
   "outputs": [],
   "source": [
    "name_of_file1 = name_of_file + \".csv\"\n",
    "name_of_file_l1 =  folder + 'labels/' + name_of_file + '_labels_'\n",
    "name_of_file_l1_time = folder + 'labels/' + name_of_file + '_labels_time'"
   ]
  },
  {
   "cell_type": "markdown",
   "metadata": {},
   "source": [
    "# Load data and basic sanity checks"
   ]
  },
  {
   "cell_type": "code",
   "execution_count": 20,
   "metadata": {},
   "outputs": [],
   "source": [
    "# Load data\n",
    "\n",
    "completePath = os.path.join(path_all, folder, name_of_file1) \n",
    "df = pd.read_csv(completePath)"
   ]
  },
  {
   "cell_type": "code",
   "execution_count": 21,
   "metadata": {},
   "outputs": [
    {
     "name": "stdout",
     "output_type": "stream",
     "text": [
      "Sensor names: p3 , p4\n",
      "Missing values\n"
     ]
    }
   ],
   "source": [
    "df2 = df.copy(deep=True)\n",
    "\n",
    "sr0 = df2.keys()[2]\n",
    "sr1 = df2.keys()[3]\n",
    "print('Sensor names:',sr0,',', sr1)\n",
    "\n",
    "if (df2.shape[0]%8640 !=0):\n",
    "    print('Missing values')"
   ]
  },
  {
   "cell_type": "code",
   "execution_count": 22,
   "metadata": {},
   "outputs": [],
   "source": [
    "df2['Datetime']=df2['day']+ ' ' + df2['hour']\n",
    "df2['Datetime_'] = [x for x in (pd.to_datetime([i for i in df2['Datetime']], format='%d.%m.%Y %H:%M:%S'))] \n",
    "df3 = df2.resample('10S', on='Datetime_', base=10).mean()\n",
    "\n",
    "if (df3.shape[0]%8640 !=0):\n",
    "    print('Missing values')"
   ]
  },
  {
   "cell_type": "code",
   "execution_count": 23,
   "metadata": {},
   "outputs": [],
   "source": [
    "df3 = df3.reset_index()"
   ]
  },
  {
   "cell_type": "code",
   "execution_count": 24,
   "metadata": {},
   "outputs": [],
   "source": [
    "df3['day'] = [x.date() for x in df3['Datetime_']] \n",
    "df3['time'] = [x.time() for x in df3['Datetime_']] "
   ]
  },
  {
   "cell_type": "code",
   "execution_count": 25,
   "metadata": {},
   "outputs": [],
   "source": [
    "df4 = df3.copy(deep=True)\n",
    "df4.set_index(['day','time'], inplace=True)\n",
    "\n",
    "df_bf_00 = df4[sr0]\n",
    "df_bf_01 = df4[sr1]\n",
    "\n",
    "df4.drop(columns ='Datetime_', inplace=True)\n",
    "df2 = df4.copy(deep=True)"
   ]
  },
  {
   "cell_type": "markdown",
   "metadata": {},
   "source": [
    "## Basic sanity checks"
   ]
  },
  {
   "cell_type": "code",
   "execution_count": 26,
   "metadata": {
    "scrolled": true
   },
   "outputs": [
    {
     "name": "stdout",
     "output_type": "stream",
     "text": [
      "Unique dates: DatetimeIndex(['2018-08-01', '2018-08-02', '2018-08-03', '2018-08-04',\n",
      "               '2018-08-05', '2018-08-06', '2018-08-07', '2018-08-08',\n",
      "               '2018-08-09', '2018-08-10', '2018-08-11', '2018-08-12',\n",
      "               '2018-08-13', '2018-08-14', '2018-08-15', '2018-08-16',\n",
      "               '2018-08-17', '2018-08-18', '2018-08-19', '2018-08-20',\n",
      "               '2018-08-21', '2018-08-22', '2018-08-23', '2018-08-24',\n",
      "               '2018-08-25', '2018-08-26', '2018-08-27', '2018-08-28',\n",
      "               '2018-08-29', '2018-08-30', '2018-08-31'],\n",
      "              dtype='datetime64[ns]', name='day', freq=None)\n",
      "Number of days: 31.0\n"
     ]
    }
   ],
   "source": [
    "# Accessing dates\n",
    "i_date = df2.index.get_level_values(0)                                      # get all dates\n",
    "idx_date = np.unique(df2.index.get_level_values(0), return_index=True)[1]      # get index of unique dates\n",
    "date_list = i_date[idx_date]   # get list of all dates\n",
    "print('Unique dates:',date_list)\n",
    "\n",
    "for pl_i in range(len(date_list)):\n",
    "    if len(df_bf_00[date_list[pl_i].date()].values) != 8640:\n",
    "        print('Corrupted date:', date_list[pl_i].date())\n",
    "        print('Corrupted date index:',pl_i)\n",
    "        print('Corrupted date shape:', df2.loc[date_list[pl_i].date()].shape)  \n",
    "print ('Number of days:', df2.shape[0]/8640)"
   ]
  },
  {
   "cell_type": "code",
   "execution_count": 27,
   "metadata": {},
   "outputs": [],
   "source": [
    "# Dates and times\n",
    "data_df2 = df2.copy()\n",
    "\n",
    "data_time = []\n",
    "for pl_i in idx_date:                             # create data_time indeces to have access later\n",
    "    time = data_df2.loc[i_date[pl_i]].index\n",
    "    data_time.append(time)                        # associated to every date segment\n",
    "    \n",
    "time_int = [np.linspace(1, 8640, num = 8640, dtype=int) for _ in range(len(date_list))]"
   ]
  },
  {
   "cell_type": "markdown",
   "metadata": {},
   "source": [
    "# Plotting"
   ]
  },
  {
   "cell_type": "code",
   "execution_count": 28,
   "metadata": {},
   "outputs": [],
   "source": [
    "%matplotlib tk\n",
    "\n",
    "data1 = []\n",
    "data2 = []\n",
    "data123 = []\n",
    "\n",
    "itera = date_list\n",
    "\n",
    "import numpy as np\n",
    "import matplotlib.pylab as pl\n",
    "import matplotlib.gridspec as gridspec\n",
    "\n",
    "# added\n",
    "import matplotlib as mpl\n",
    "mpl.use('Qt5Agg')\n",
    "\n",
    "gs = gridspec.GridSpec(2, 2)\n",
    "\n",
    "fig = plt.figure()\n",
    "#plt.axis([0, 24, -3, 100])\n",
    "\n",
    "ax1 = fig.add_subplot(gs[0, 0]) # row 0, col 0\n",
    "ax2 = fig.add_subplot(gs[0, 1]) # row 0, col 1\n",
    "ax4 = fig.add_subplot(gs[1, :]) # row 1, span all columns\n",
    "\n",
    "ax1.set_title(sr0, fontdict=None, pad=None)\n",
    "ax2.set_title(sr1, fontdict=None, pad=None)\n",
    "full = sr0 + ' '+ sr1\n",
    "ax4.set_title(full, fontdict=None, pad=None)\n",
    "\n",
    "fig.suptitle(str(date_list[0].date()), fontsize=12)\n",
    "\n",
    "\n",
    "\n",
    "if Case == 1:\n",
    "    ax1.set_ylim([-3,100])\n",
    "    ax2.set_ylim([-3,100])\n",
    "    ax4.set_ylim([-3,100])\n",
    "    \n",
    "if Case == 2:\n",
    "    ax1.set_ylim([40,150])\n",
    "    ax2.set_ylim([40,150])\n",
    "    ax4.set_ylim([40,150])\n",
    "\n",
    "for pl_i in range(len(date_list)): \n",
    "    ax1.plot(time_int[pl_i], df_bf_00[date_list[pl_i].date()].values, '#C0C0C0', lw=2)\n",
    "    ax2.plot(time_int[pl_i], df_bf_01[date_list[pl_i].date()].values, '#C0C0C0', lw=2)\n",
    "    \n",
    "l, = ax1.plot(time_int[0], df_bf_00[date_list[0].date()].values, '#1E90FF', lw=2)     #the first one is the one in blue\n",
    "l2, = ax2.plot(time_int[0], df_bf_01[date_list[0].date()].values, '#8B008B')\n",
    "\n",
    "\n",
    "ll1, = ax4.plot(time_int[0], df_bf_00[date_list[0].date()].values, '#1E90FF')\n",
    "ll2, = ax4.plot(time_int[0], df_bf_01[date_list[0].date()].values, '#8B008B')\n",
    "\n",
    "\n",
    "\n",
    "\n",
    "############### Buttons widget  ####################\n",
    "\n",
    "class Index(object):\n",
    "    ind = 0\n",
    "\n",
    "    def next(self, event):\n",
    "        self.ind += 1\n",
    "        i = self.ind % len(itera)\n",
    "\n",
    "        #ydata0 will be the plot alone\n",
    "        ydata1 = df_bf_00[date_list[i].date()].values   \n",
    "        ydata2 = df_bf_01[date_list[i].date()].values \n",
    "        xdata = time_int[i]          \n",
    "        \n",
    "        l.set_ydata(ydata1)\n",
    "        l.set_xdata(xdata)\n",
    "        l2.set_ydata(ydata2)\n",
    "        l2.set_xdata(xdata)\n",
    "        \n",
    "        ll1.set_ydata(ydata1)\n",
    "        ll2.set_ydata(ydata2)\n",
    "        \n",
    "        ll1.set_xdata(xdata) \n",
    "        ll2.set_xdata(xdata)\n",
    "        \n",
    "        if (i == (0)):\n",
    "            fig.suptitle('End of data files - restarting with data file ' + str(date_list[i].date()), fontsize=12)\n",
    "        else: \n",
    "            fig.suptitle(str(date_list[i].date()), fontsize=12)\n",
    "            \n",
    "        plt.draw()\n",
    "\n",
    "    def prev(self, event):\n",
    "        self.ind -= 1\n",
    "        i = self.ind % len(itera)\n",
    "        \n",
    "        #ydata0 will be the plot alone\n",
    "        ydata1 = df_bf_00[date_list[i].date()].values \n",
    "        ydata2 = df_bf_01[date_list[i].date()].values \n",
    "        xdata = time_int[i]  \n",
    "        \n",
    "        l.set_ydata(ydata1)\n",
    "        l.set_xdata(xdata)\n",
    "        \n",
    "        l2.set_ydata(ydata2)\n",
    "        l2.set_xdata(xdata)\n",
    "        \n",
    "\n",
    "        ll1.set_ydata(ydata1)\n",
    "        ll2.set_ydata(ydata2)\n",
    "\n",
    "\n",
    "        ll1.set_xdata(xdata) \n",
    "        ll2.set_xdata(xdata)\n",
    "\n",
    "        \n",
    "\n",
    "        if (i == (0)):\n",
    "            fig.suptitle('End of data files - restarting with data file ' + str(date_list[i].date()), fontsize=12)\n",
    "        else: \n",
    "            fig.suptitle(str(date_list[i].date()), fontsize=12)\n",
    "            \n",
    "        plt.draw()\n",
    "\n",
    "callback = Index()\n",
    "\n",
    "axprev = plt.axes([0.7, 0.05, 0.1, 0.075])\n",
    "axnext = plt.axes([0.81, 0.05, 0.1, 0.075])\n",
    "bnext = Button(axnext, 'Next')\n",
    "bnext.on_clicked(callback.next)\n",
    "\n",
    "bprev = Button(axprev, 'Previous')\n",
    "bprev.on_clicked(callback.prev)\n",
    "\n",
    "\"\"\"\n",
    "valore = '11'\n",
    "def presskey(event):\n",
    "    print('Pressed key = ', event.key)\n",
    "    #sys.stdout.flush()    \n",
    "    global valore \n",
    "    valore = event.key       \n",
    "    return valore\n",
    "\"\"\"\n",
    "\n",
    "def onselect1(xmin, xmax):\n",
    "    x = time_int[callback.ind % len(itera)]\n",
    "    y = df_bf_00[date_list[callback.ind % len(itera)].date()].values \n",
    "    today = date_list[callback.ind % len(itera)]\n",
    "   \n",
    "    indmin1, indmax1 = np.searchsorted(x, (xmin, xmax))\n",
    "    indmax1 = min(len(x) - 1, indmax1)\n",
    "    thisx = x[indmin1:indmax1]\n",
    "    thisy = y[indmin1:indmax1]    \n",
    "    nplist = np.array([today.date() for i in range(len(thisx))])\n",
    "        \n",
    "    a1 = np.c_[nplist, thisx, thisy]\n",
    "    global data1\n",
    "    data1.extend(a1)\n",
    "    #np.savetxt(completeName_label_1, data1)\n",
    "\n",
    "        \n",
    "\n",
    "def onselect2(xmin, xmax):\n",
    "    x = time_int[callback.ind % len(itera)]\n",
    "    y = df_bf_01[date_list[callback.ind % len(itera)].date()].values \n",
    "    today = date_list[callback.ind % len(itera)]\n",
    "    \n",
    "    indmin, indmax = np.searchsorted(x, (xmin, xmax))\n",
    "    indmax = min(len(x) - 1, indmax)\n",
    "    thisx = x[indmin:indmax]\n",
    "    thisy = y[indmin:indmax]\n",
    "    nplist = np.array([today.date() for i in range(len(thisx))])\n",
    "    \n",
    "    a2 = np.c_[nplist, thisx, thisy]\n",
    "    global data2\n",
    "    data2.extend(a2)\n",
    "    \n",
    "\n",
    "def onselect4(xmin, xmax):\n",
    "    x = time_int[callback.ind % len(itera)]\n",
    "    y1 = df_bf_00[date_list[callback.ind % len(itera)].date()].values \n",
    "    y2 = df_bf_01[date_list[callback.ind % len(itera)].date()].values\n",
    "    today = date_list[callback.ind % len(itera)]\n",
    "    \n",
    "    indmin, indmax = np.searchsorted(x, (xmin, xmax))\n",
    "    indmax = min(len(x) - 1, indmax)\n",
    "    \n",
    "    thisx = x[indmin:indmax]\n",
    "    thisy1 = y1[indmin:indmax]\n",
    "    thisy2 = y2[indmin:indmax]\n",
    "    nplist = np.array([today.date() for i in range(len(thisx))])\n",
    "        \n",
    "    # save\n",
    "    a123 = np.c_[nplist, thisx, thisy1, thisy2]\n",
    "    global data123\n",
    "    data123.extend(a123)\n",
    "\n",
    "    \n",
    "\"\"\"\n",
    "# Connect key event to figure\n",
    "fig.canvas.mpl_connect('key_press_event',presskey)\n",
    "\"\"\"\n",
    "\n",
    "#class1 = Onselect_1()\n",
    "\n",
    "spans1 = SpanSelector(ax1, onselect1, 'horizontal', useblit=False,\n",
    "                      rectprops=dict(alpha=0.5, facecolor='red'), span_stays=True)\n",
    "span2 = SpanSelector(ax2, onselect2, 'horizontal', useblit=True,\n",
    "                    rectprops=dict(alpha=0.5, facecolor='red'), span_stays=True )\n",
    "span4 = SpanSelector(ax4, onselect4, 'horizontal', useblit=True,\n",
    "                    rectprops=dict(alpha=0.5, facecolor='red') , span_stays=True)\n",
    "\n",
    "# added\n",
    "plt.show()"
   ]
  },
  {
   "cell_type": "markdown",
   "metadata": {},
   "source": [
    "## Save labels "
   ]
  },
  {
   "cell_type": "code",
   "execution_count": 30,
   "metadata": {},
   "outputs": [],
   "source": [
    "data1 = pd.DataFrame(data1, columns=['day','time_m', sr0])\n",
    "data2 = pd.DataFrame(data2, columns=['day','time_m', sr1])\n",
    "data123 = pd.DataFrame(data123, columns=['day','time_m', sr0, sr1])\n",
    "\n",
    "data1.to_csv(os.path.join(save_path,name_of_file_l1+sr0 + \".csv\") )\n",
    "data2.to_csv(os.path.join(save_path,name_of_file_l1+sr1 + \".csv\") )\n",
    "data123.to_csv(os.path.join(save_path,name_of_file_l1+sr0+sr1+ \".csv\") )"
   ]
  },
  {
   "cell_type": "markdown",
   "metadata": {},
   "source": [
    "### Back to time labels\n"
   ]
  },
  {
   "cell_type": "code",
   "execution_count": 31,
   "metadata": {},
   "outputs": [],
   "source": [
    "data1_l = data1.copy(deep=True)\n",
    "data2_l = data2.copy(deep=True)\n",
    "data123_l = data123.copy(deep=True)\n",
    "\n",
    "data_df = data_df2.reset_index()\n",
    "\n",
    "data_df_s1 = data_df.drop([sr1], axis=1)\n",
    "data_df_s2 = data_df.drop([sr0], axis=1)\n",
    "data_df_s3 = data_df.copy()\n",
    "\n",
    "data_df_s1['time_m'] = np.reshape(time_int, 8640*len(time_int))\n",
    "data_df_s2['time_m'] = np.reshape(time_int, 8640*len(time_int))\n",
    "data_df_s3['time_m'] = np.reshape(time_int, 8640*len(time_int))\n",
    "\n",
    "data_df_s1['day'] = [x.date() for x in data_df_s1['day']] \n",
    "data_df_s2['day'] = [x.date() for x in data_df_s2['day']] \n",
    "data_df_s3['day'] = [x.date() for x in data_df_s3['day']] \n",
    "\n",
    "data1_l.drop(columns ='p3', inplace=True)\n",
    "data2_l.drop(columns ='p4', inplace=True)\n",
    "data123_l.drop(columns =['p3', 'p4'], inplace=True)\n",
    "\n",
    "labels_df_1 = pd.merge(data_df_s1, data1_l, on = ['day', 'time_m'], how='left', indicator=True)\n",
    "labels_df_2 = pd.merge(data_df_s2, data2_l, on = ['day', 'time_m'], how='left', indicator=True)\n",
    "labels_df_123 = pd.merge(data_df_s3, data123_l, on = ['day', 'time_m'], how='left', indicator=True)\n"
   ]
  },
  {
   "cell_type": "code",
   "execution_count": 32,
   "metadata": {
    "scrolled": true
   },
   "outputs": [],
   "source": [
    "# ADD zeros and ones with dictionary mapping\n",
    "\n",
    "mapper_dict = {'left_only': 0, 'both': 1}\n",
    "\n",
    "def mp(entry):\n",
    "    \"\"\"\n",
    "    maps new values\n",
    "    \"\"\"\n",
    "    return mapper_dict[entry] if entry in mapper_dict else entry\n",
    "mp = np.vectorize(mp)\n"
   ]
  },
  {
   "cell_type": "code",
   "execution_count": 33,
   "metadata": {},
   "outputs": [],
   "source": [
    "labels_df_1 ['_merge'] = mp(labels_df_1['_merge'])\n",
    "labels_df_2 ['_merge'] = mp(labels_df_2['_merge'])\n",
    "labels_df_123 ['_merge'] = mp(labels_df_123['_merge'])\n",
    "\n",
    "labels_df_1 = labels_df_1.rename(index=str, columns={\"_merge\": \"Anomaly\"})\n",
    "labels_df_2 = labels_df_2.rename(index=str, columns={\"_merge\": \"Anomaly\"})\n",
    "labels_df_123 = labels_df_123.rename(index=str, columns={\"_merge\": \"Anomaly\"})\n",
    "\n",
    "labels_df_1.to_csv(os.path.join(save_path, name_of_file_l1_time+sr0 + \".csv\") )\n",
    "labels_df_2.to_csv(os.path.join(save_path, name_of_file_l1_time+sr1 + \".csv\") )\n",
    "labels_df_123.to_csv(os.path.join(save_path, name_of_file_l1_time+sr0+sr1 + \".csv\") )  "
   ]
  },
  {
   "cell_type": "code",
   "execution_count": null,
   "metadata": {},
   "outputs": [],
   "source": []
  },
  {
   "cell_type": "code",
   "execution_count": null,
   "metadata": {},
   "outputs": [],
   "source": []
  },
  {
   "cell_type": "code",
   "execution_count": null,
   "metadata": {},
   "outputs": [],
   "source": []
  }
 ],
 "metadata": {
  "kernelspec": {
   "display_name": "ADAS_env",
   "language": "python",
   "name": "adas_env"
  },
  "language_info": {
   "codemirror_mode": {
    "name": "ipython",
    "version": 3
   },
   "file_extension": ".py",
   "mimetype": "text/x-python",
   "name": "python",
   "nbconvert_exporter": "python",
   "pygments_lexer": "ipython3",
   "version": "3.6.8"
  }
 },
 "nbformat": 4,
 "nbformat_minor": 2
}
