{
 "cells": [
  {
   "cell_type": "markdown",
   "metadata": {},
   "source": [
    "\n",
    "# Data sets:\n",
    "\n",
    "##### 1 Month (august) of labels missing in T1 and T2. It has been now removed from GAK\n",
    "##### 1 Month (may) of labels missing in GAK. It has been now removed from  T1 and T2\n",
    "\n",
    "- Case 1: GAK (p3,p4),       \n",
    "    - only p3 : Fraction of anomalies:  0.0570\n",
    "    - only p4 : Fraction of anomalies:  0.0470\n",
    "    - p3 and p4 : Fraction of anomalies 0.0239\n",
    "    \n",
    "    - Merged : 6.07%   \n",
    "   \n",
    "\n",
    "\n",
    "- Case 2: Pressure T1 T2 (p1,p2)\n",
    "    - only p1 : Fraction of anomalies:  0.04833761153893167  \n",
    "    - only p2 : Fraction of anomalies:  0.02308741290795746  \n",
    "    - p1 and p2 : Fraction of anomalies:  0.014922533920058673\n",
    "    \n",
    "    - Merged: 8.02%  ----- makes sense for Angelika as they all they influence\n",
    "   \n",
    "   \n",
    "   \n",
    " \n",
    "- Case 1 and Case 2 merged\n",
    "    - Fraction of anomalies:   13.35%\n",
    "    \n",
    "    \n",
    "# F1 results with RF model\n",
    "\n",
    "- note that full data cases present (almost) the results of the samesubsampled analogues and are not reported here \n",
    "\n",
    "## CASE 1 anomalies\n",
    "\n",
    "- p1 : 0.77\n",
    "- p2 : 0.75 \n",
    "- p1, p2: 0.91\n",
    "\n",
    "- merged: 0.81\n",
    "\n",
    "\n",
    "## CASE 2 anomalies\n",
    "\n",
    "- p3: 0.89\n",
    "- p4: 0.92\n",
    "- p3, p4: 0.74\n",
    "\n",
    "- merged: 0.88\n",
    "\n",
    "\n",
    "## MERGED CASES\n",
    "\n",
    "- 0.84 anomalies\n",
    "\n"
   ]
  },
  {
   "cell_type": "code",
   "execution_count": 1,
   "metadata": {},
   "outputs": [
    {
     "name": "stdout",
     "output_type": "stream",
     "text": [
      "All libraries have been loaded.\n"
     ]
    }
   ],
   "source": [
    "# Automatically import the libraries into Jupyter Notebook\n",
    "%run functions/startup.py"
   ]
  },
  {
   "cell_type": "code",
   "execution_count": 2,
   "metadata": {},
   "outputs": [],
   "source": [
    "# On personal laptop\n",
    "path_base = ('/Users/russoste/Desktop/my_git_repos/00_Data/04_Nest/')\n",
    "path_figures = ('/Users/russoste/Desktop/my_git_repos/00_Data/04_Nest/figures/')\n",
    "path_data_saved = ('/Users/russoste/Desktop/my_git_repos/00_Data/04_Nest/Sup_Unsup_data_saved/')\n",
    "path_data_raw = 'data_raw/'\n",
    "path_data_processed = 'data_processed/'"
   ]
  },
  {
   "cell_type": "code",
   "execution_count": 3,
   "metadata": {},
   "outputs": [],
   "source": [
    "# Select Case\n",
    "Case = 1      # case 1: GAK (p3,p4),       case 2: Pressure T1 T2 (p1,p2)\n",
    "\n",
    "if Case == 1:\n",
    "    folder = path_data_raw + 'data_pressure_sensor_GAK/'\n",
    "    labels = 'labels/'\n",
    "    lab1 = '_labels_timep3'\n",
    "    lab2 = '_labels_timep4'\n",
    "    lab3 = '_labels_timep3p4'\n",
    "if Case == 2:\n",
    "    folder = path_data_raw + 'data_pressure_sensors_T1_T2/' \n",
    "    labels = 'labels/'\n",
    "    lab1 = '_labels_timep1'\n",
    "    lab2 = '_labels_timep2'\n",
    "    lab3 = '_labels_timep1p2'\n",
    "\n",
    "\n",
    "#Select sensor to work on\n",
    "ss = lab3"
   ]
  },
  {
   "cell_type": "code",
   "execution_count": 34,
   "metadata": {},
   "outputs": [],
   "source": [
    "def data_labels_load (path_all, folder, labels, ss):\n",
    "    ss = ss + '.csv'\n",
    "    data_files = []\n",
    "    data_files_path = []\n",
    "    for name in os.listdir(os.path.join(path_all,folder, labels)):\n",
    "    #if os.path.isdir(os.path.join(path_all, name)):\n",
    "        if name.endswith(ss):\n",
    "            data_files.append(name)\n",
    "            data_files_path.append(os.path.join(path_all,folder, labels, name))\n",
    "        data_files_path = sorted(data_files_path) \n",
    "        \n",
    "    tmp = []\n",
    "    data_all = pd.DataFrame()\n",
    "    for fn in data_files_path:\n",
    "        df = pd.read_csv(fn,index_col=[0])\n",
    "        #data_all.append(df)\n",
    "        tmp = pd.concat([data_all, df] , ignore_index=True)\n",
    "        data_all = tmp.copy()\n",
    "        \n",
    "    return data_all\n",
    "\n",
    "\n",
    "def process_data(data_all_labels):\n",
    "    data_all_labels['datetime'] = pd.to_datetime(data_all_labels['day']+ ' ' + data_all_labels['time'])\n",
    "    data_all_labels.drop_duplicates('datetime',inplace=True)\n",
    "    print('Fraction of anomalies: ', np.sum(data_all_labels['Anomaly'] ==1)/data_all_labels.shape[0])\n",
    "    print('Shape:', data_all_labels.shape)\n",
    "    data_all_labels.reset_index(inplace=True)\n",
    "    return data_all_labels\n",
    "\n",
    "def process_data_coll(data_all_labels):\n",
    "    data_all_labels['datetime'] = pd.to_datetime(data_all_labels['day']+ ' ' + data_all_labels['time'])\n",
    "    data_all_labels.drop_duplicates('datetime',inplace=True)\n",
    "    print('Fraction of anomalies: ', np.sum(data_all_labels['Tot_anomalies'] ==1)/data_all_labels.shape[0])\n",
    "    print('Shape:', data_all_labels.shape)\n",
    "    data_all_labels.reset_index(inplace=True)\n",
    "    return data_all_labels"
   ]
  },
  {
   "cell_type": "markdown",
   "metadata": {},
   "source": [
    "### Load data for first preprocessing"
   ]
  },
  {
   "cell_type": "code",
   "execution_count": 5,
   "metadata": {
    "scrolled": true
   },
   "outputs": [
    {
     "data": {
      "text/plain": [
       "(2619535, 5)"
      ]
     },
     "execution_count": 5,
     "metadata": {},
     "output_type": "execute_result"
    }
   ],
   "source": [
    "data_all_labels = data_labels_load(path_base,folder, labels, ss)\n",
    "data_all_labels.shape"
   ]
  },
  {
   "cell_type": "code",
   "execution_count": 6,
   "metadata": {},
   "outputs": [
    {
     "data": {
      "text/plain": [
       "[<matplotlib.lines.Line2D at 0x1a426257b8>]"
      ]
     },
     "execution_count": 6,
     "metadata": {},
     "output_type": "execute_result"
    },
    {
     "data": {
      "image/png": "[encoded data removed]",
      "text/plain": [
       "<Figure size 432x288 with 1 Axes>"
      ]
     },
     "metadata": {
      "needs_background": "light"
     },
     "output_type": "display_data"
    }
   ],
   "source": [
    "df2 = data_all_labels.copy(deep=True)\n",
    "df2['datetime'] = pd.to_datetime(df2['day']+ ' ' + df2['time'])\n",
    "tmp_data = (df2['datetime'].diff()[1:]/np.timedelta64(10, 's')).values\n",
    "plt.plot(tmp_data[527036:527100])   # there is one month missing"
   ]
  },
  {
   "cell_type": "code",
   "execution_count": 13,
   "metadata": {},
   "outputs": [
    {
     "name": "stdout",
     "output_type": "stream",
     "text": [
      "Fraction of anomalies:  0.023986318182425508\n"
     ]
    }
   ],
   "source": [
    "df4 = df2.copy()\n",
    "df4.drop_duplicates('datetime',inplace=True)\n",
    "print('Fraction of anomalies: ', np.sum(data_all_labels['Anomaly'] ==1)/data_all_labels.shape[0])"
   ]
  },
  {
   "cell_type": "code",
   "execution_count": 9,
   "metadata": {},
   "outputs": [],
   "source": [
    "# # Save data as pickle\n",
    "if Case == 1:\n",
    "    name = 'GAK_Anomaly' + ss\n",
    "else:\n",
    "    name = 'T1_T2_Anomaly' + ss\n",
    "\n",
    "df4.drop(columns = 'datetime', inplace=True)\n",
    "file = open(path_base + path_data_processed + name, 'wb')   # open a file, where you want to store the data\n",
    "pickle.dump(df4, file, protocol=4)   # dump information to that file\n",
    "file.close()   # close the file"
   ]
  },
  {
   "cell_type": "markdown",
   "metadata": {},
   "source": [
    "# Merge single anomalies to collective anomalies for 2 sensors"
   ]
  },
  {
   "cell_type": "markdown",
   "metadata": {},
   "source": [
    "## Load data"
   ]
  },
  {
   "cell_type": "code",
   "execution_count": 15,
   "metadata": {},
   "outputs": [],
   "source": [
    "# Select Case\n",
    "Case = 1     # case 1: GAK (p3,p4),       case 2: Pressure T1 T2 (p1,p2)\n",
    "\n",
    "if Case == 1:\n",
    "    folder = path_data_raw + 'data_pressure_sensor_GAK/'\n",
    "    labels = 'labels/'\n",
    "    lab1 = '_labels_timep3'\n",
    "    lab2 = '_labels_timep4'\n",
    "    lab3 = '_labels_timep3p4'\n",
    "if Case == 2:\n",
    "    folder = path_data_raw + 'data_pressure_sensors_T1_T2/' \n",
    "    labels = 'labels/'\n",
    "    lab1 = '_labels_timep1'\n",
    "    lab2 = '_labels_timep2'\n",
    "    lab3 = '_labels_timep1p2'\n"
   ]
  },
  {
   "cell_type": "code",
   "execution_count": 21,
   "metadata": {
    "scrolled": true
   },
   "outputs": [
    {
     "name": "stdout",
     "output_type": "stream",
     "text": [
      "Fraction of anomalies:  0.023384213421342136\n",
      "Shape: (2617920, 6)\n"
     ]
    }
   ],
   "source": [
    "### Load multiple sensors anomalies\n",
    "\n",
    "data_all_labels = data_labels_load(path_base,folder, labels, lab3)\n",
    "data_all_labels = process_data(data_all_labels)\n"
   ]
  },
  {
   "cell_type": "code",
   "execution_count": 22,
   "metadata": {
    "scrolled": false
   },
   "outputs": [
    {
     "name": "stdout",
     "output_type": "stream",
     "text": [
      "Fraction of anomalies:  0.055520413152426354\n",
      "Shape: (2617920, 5)\n",
      "Fraction of anomalies:  0.046593860774966384\n",
      "Shape: (2617920, 5)\n"
     ]
    }
   ],
   "source": [
    "### Load single sensors anomalies\n",
    "\n",
    "data_1 = data_labels_load(path_base,folder, labels, lab1)\n",
    "data_1 = process_data(data_1)\n",
    "\n",
    "data_2 = data_labels_load(path_base,folder, labels, lab2)\n",
    "data_2 = process_data(data_2)"
   ]
  },
  {
   "cell_type": "code",
   "execution_count": 26,
   "metadata": {},
   "outputs": [
    {
     "name": "stdout",
     "output_type": "stream",
     "text": [
      "True\n",
      "Missing anomalies 105512\n",
      "Missing anomalies 104821\n"
     ]
    }
   ],
   "source": [
    "### check if dates coincide and how many anomalies are different\n",
    "\n",
    "print(data_1.shape[0] == (np.sum(data_1.datetime == data_2.datetime)))\n",
    "print('Missing anomalies', data_all_labels.shape[0] - np.sum(data_1.Anomaly == data_all_labels.Anomaly))\n",
    "print('Missing anomalies', data_all_labels.shape[0] - np.sum(data_2.Anomaly == data_all_labels.Anomaly))"
   ]
  },
  {
   "cell_type": "markdown",
   "metadata": {},
   "source": [
    "### merge anomalies"
   ]
  },
  {
   "cell_type": "code",
   "execution_count": 225,
   "metadata": {},
   "outputs": [
    {
     "name": "stdout",
     "output_type": "stream",
     "text": [
      "Total added anomalies: 145348\n"
     ]
    }
   ],
   "source": [
    "Anom_all = data_all_labels.Anomaly.copy()\n",
    "count = 0\n",
    "for i in range (data_1.shape[0]):\n",
    "    if ((data_1.datetime[i] == data_all_labels.datetime[i]) & (data_1.Anomaly[i] == 1)):\n",
    "        count = count +1\n",
    "        Anom_all[i] = 1\n",
    "print('Total added anomalies:', count)\n",
    "\n",
    "# we do not initialize again Amoal_all\n",
    "count = 0\n",
    "for i in range (data_2.shape[0]):\n",
    "    if ((data_2.datetime[i] == data_all_labels.datetime[i]) & (data_2.Anomaly[i] == 1)):\n",
    "        count = count +1\n",
    "        Anom_all[i] = 1\n",
    "print('Total added anomalies:', count)\n",
    "\n",
    "print('Fraction of combined anomalies: ', np.sum(Anom_all)/data_all_labels.shape[0])"
   ]
  },
  {
   "cell_type": "code",
   "execution_count": 228,
   "metadata": {},
   "outputs": [
    {
     "data": {
      "text/html": [
       "<div>\n",
       "<style scoped>\n",
       "    .dataframe tbody tr th:only-of-type {\n",
       "        vertical-align: middle;\n",
       "    }\n",
       "\n",
       "    .dataframe tbody tr th {\n",
       "        vertical-align: top;\n",
       "    }\n",
       "\n",
       "    .dataframe thead th {\n",
       "        text-align: right;\n",
       "    }\n",
       "</style>\n",
       "<table border=\"1\" class=\"dataframe\">\n",
       "  <thead>\n",
       "    <tr style=\"text-align: right;\">\n",
       "      <th></th>\n",
       "      <th>index</th>\n",
       "      <th>day</th>\n",
       "      <th>time</th>\n",
       "      <th>p3</th>\n",
       "      <th>p4</th>\n",
       "      <th>Anomaly</th>\n",
       "      <th>datetime</th>\n",
       "    </tr>\n",
       "  </thead>\n",
       "  <tbody>\n",
       "    <tr>\n",
       "      <th>0</th>\n",
       "      <td>0</td>\n",
       "      <td>2018-06-01</td>\n",
       "      <td>00:00:00</td>\n",
       "      <td>91.6</td>\n",
       "      <td>12.6</td>\n",
       "      <td>0</td>\n",
       "      <td>2018-06-01 00:00:00</td>\n",
       "    </tr>\n",
       "    <tr>\n",
       "      <th>1</th>\n",
       "      <td>1</td>\n",
       "      <td>2018-06-01</td>\n",
       "      <td>00:00:10</td>\n",
       "      <td>91.6</td>\n",
       "      <td>12.6</td>\n",
       "      <td>0</td>\n",
       "      <td>2018-06-01 00:00:10</td>\n",
       "    </tr>\n",
       "    <tr>\n",
       "      <th>2</th>\n",
       "      <td>2</td>\n",
       "      <td>2018-06-01</td>\n",
       "      <td>00:00:20</td>\n",
       "      <td>91.6</td>\n",
       "      <td>12.6</td>\n",
       "      <td>0</td>\n",
       "      <td>2018-06-01 00:00:20</td>\n",
       "    </tr>\n",
       "    <tr>\n",
       "      <th>3</th>\n",
       "      <td>3</td>\n",
       "      <td>2018-06-01</td>\n",
       "      <td>00:00:30</td>\n",
       "      <td>91.6</td>\n",
       "      <td>12.6</td>\n",
       "      <td>0</td>\n",
       "      <td>2018-06-01 00:00:30</td>\n",
       "    </tr>\n",
       "    <tr>\n",
       "      <th>4</th>\n",
       "      <td>4</td>\n",
       "      <td>2018-06-01</td>\n",
       "      <td>00:00:40</td>\n",
       "      <td>91.6</td>\n",
       "      <td>12.6</td>\n",
       "      <td>0</td>\n",
       "      <td>2018-06-01 00:00:40</td>\n",
       "    </tr>\n",
       "  </tbody>\n",
       "</table>\n",
       "</div>"
      ],
      "text/plain": [
       "   index         day      time    p3    p4  Anomaly            datetime\n",
       "0      0  2018-06-01  00:00:00  91.6  12.6        0 2018-06-01 00:00:00\n",
       "1      1  2018-06-01  00:00:10  91.6  12.6        0 2018-06-01 00:00:10\n",
       "2      2  2018-06-01  00:00:20  91.6  12.6        0 2018-06-01 00:00:20\n",
       "3      3  2018-06-01  00:00:30  91.6  12.6        0 2018-06-01 00:00:30\n",
       "4      4  2018-06-01  00:00:40  91.6  12.6        0 2018-06-01 00:00:40"
      ]
     },
     "execution_count": 228,
     "metadata": {},
     "output_type": "execute_result"
    }
   ],
   "source": [
    "data_all_labels.head()"
   ]
  },
  {
   "cell_type": "code",
   "execution_count": null,
   "metadata": {
    "scrolled": true
   },
   "outputs": [],
   "source": [
    "data_all_labels['Tot_anomalies'] = Anom_all\n",
    "data_all_labels.drop(columns = ['index', 'datetime'], inplace=True)"
   ]
  },
  {
   "cell_type": "code",
   "execution_count": 233,
   "metadata": {},
   "outputs": [],
   "source": [
    "# # Save data as pickle\n",
    "if Case == 1:\n",
    "    name = 'GAK_Anomaly_collective' \n",
    "else:\n",
    "    name = 'T1_T2_Anomaly_collective' \n",
    "\n",
    "file = open(path_base + path_data_processed + name, 'wb')   # open a file, where you want to store the data\n",
    "pickle.dump(data_all_labels, file, protocol=4)   # dump information to that file\n",
    "file.close()   # close the file"
   ]
  },
  {
   "cell_type": "markdown",
   "metadata": {},
   "source": [
    "----------"
   ]
  },
  {
   "cell_type": "markdown",
   "metadata": {},
   "source": [
    "# Merge the 2 collective cases"
   ]
  },
  {
   "cell_type": "markdown",
   "metadata": {},
   "source": [
    "## Load data"
   ]
  },
  {
   "cell_type": "code",
   "execution_count": 35,
   "metadata": {},
   "outputs": [],
   "source": [
    "path_base = ('/Users/russoste/Desktop/my_git_repos/00_Data/04_Nest/')\n",
    "path_data_raw = 'data_raw/'\n",
    "path_data_processed = 'data_processed/'\n",
    "\n",
    "\n",
    "name1 = 'GAK_Anomaly_collective'\n",
    "name2 = 'T1_T2_Anomaly_collective'\n",
    "\n",
    "\n",
    "# Load data file  - Working with collective anomalies\n",
    "    \n",
    "file = open(path_base + path_data_processed + name1, 'rb')  # open a file, where you stored the pickled data\n",
    "df1 = pickle.load(file)   # dump information to that file\n",
    "file.close()   # close the file\n",
    "\n",
    "\n",
    "file = open(path_base + path_data_processed + name2, 'rb')  # open a file, where you stored the pickled data\n",
    "df2 = pickle.load(file)   # dump information to that file\n",
    "file.close()   # close the file\n"
   ]
  },
  {
   "cell_type": "code",
   "execution_count": 36,
   "metadata": {},
   "outputs": [
    {
     "name": "stdout",
     "output_type": "stream",
     "text": [
      "Fraction of anomalies:  0.06075013751375138\n",
      "Shape: (2617920, 7)\n",
      "Fraction of anomalies:  0.08253919141914191\n",
      "Shape: (2617920, 7)\n"
     ]
    }
   ],
   "source": [
    "df1 = process_data_coll(df1)\n",
    "df2 = process_data_coll(df2)"
   ]
  },
  {
   "cell_type": "code",
   "execution_count": 37,
   "metadata": {},
   "outputs": [
    {
     "name": "stdout",
     "output_type": "stream",
     "text": [
      "Missing anomalies 323870\n"
     ]
    }
   ],
   "source": [
    "print('Missing anomalies', df1.Tot_anomalies.shape[0] - np.sum(df1.Tot_anomalies == df2.Tot_anomalies))"
   ]
  },
  {
   "cell_type": "markdown",
   "metadata": {},
   "source": [
    "#### Merge anomalies"
   ]
  },
  {
   "cell_type": "code",
   "execution_count": 38,
   "metadata": {},
   "outputs": [],
   "source": [
    "TT = df1.Tot_anomalies + df2.Tot_anomalies\n",
    "\n",
    "for i, x in enumerate(TT):\n",
    "    if x >= 1: TT[i] = 1\n",
    "        \n",
    "list_df = list(zip(df1.day, df1.time, df2.p1, df2.p2, df1.p3, df1.p4, TT))\n",
    "\n",
    "merg_data_df = pd.DataFrame(list_df, columns=['day', 'time', 'p1', 'p2', 'p3', 'p4', 'Tot_anomalies'])"
   ]
  },
  {
   "cell_type": "code",
   "execution_count": 39,
   "metadata": {},
   "outputs": [
    {
     "name": "stdout",
     "output_type": "stream",
     "text": [
      "Fraction of anomalies:  0.13350102371348246\n"
     ]
    }
   ],
   "source": [
    "print('Fraction of anomalies: ', np.sum(merg_data_df['Tot_anomalies'] ==1)/merg_data_df.shape[0])"
   ]
  },
  {
   "cell_type": "code",
   "execution_count": 317,
   "metadata": {},
   "outputs": [],
   "source": [
    "# # Save data as pickle\n",
    "\n",
    "name = 'NEST_Anomaly_collective' \n",
    "\n",
    "file = open(path_base + path_data_processed + name, 'wb')   # open a file, where you want to store the data\n",
    "pickle.dump(merg_data_df, file, protocol=4)   # dump information to that file\n",
    "file.close()   # close the file"
   ]
  },
  {
   "cell_type": "markdown",
   "metadata": {},
   "source": [
    "# Data manipulation - SUBSAMPLING\n"
   ]
  },
  {
   "cell_type": "code",
   "execution_count": 4,
   "metadata": {},
   "outputs": [],
   "source": [
    "# Select Case\n",
    "Case = 1     # case 1: GAK (p3,p4),       case 2: Pressure T1 T2 (p1,p2)\n",
    "\n",
    "if Case == 1:\n",
    "    name = 'GAK_Anomaly_collective'\n",
    "if Case == 2:\n",
    "    name = 'T1_T2_Anomaly_collective'"
   ]
  },
  {
   "cell_type": "code",
   "execution_count": 5,
   "metadata": {},
   "outputs": [
    {
     "name": "stdout",
     "output_type": "stream",
     "text": [
      "Data shape (2617920, 6)\n",
      "Index(['day', 'time', 'p3', 'p4', 'Anomaly', 'Tot_anomalies'], dtype='object')\n",
      "Fraction of anomalies: 0.06075013751375138\n"
     ]
    }
   ],
   "source": [
    "# Load data file  - Working with collective anomalies\n",
    "    \n",
    "file = open(path_base + path_data_processed + name, 'rb')  # open a file, where you stored the pickled data\n",
    "df1 = pickle.load(file)   # dump information to that file\n",
    "file.close()   # close the file\n",
    "\n",
    "df1.fillna(0, inplace=True)\n",
    "print ('Data shape', df1.shape)\n",
    "print (df1.keys())\n",
    "\n",
    "print('Fraction of anomalies:',np.sum(df1.Tot_anomalies)/df1.shape[0])"
   ]
  },
  {
   "cell_type": "markdown",
   "metadata": {},
   "source": [
    "--------\n",
    "\n",
    "###  Data manipulation 1\n",
    "- get half of the data\n",
    "**I can reduce the data to half without losing anomalies**"
   ]
  },
  {
   "cell_type": "code",
   "execution_count": 6,
   "metadata": {},
   "outputs": [
    {
     "name": "stdout",
     "output_type": "stream",
     "text": [
      "Fraction of anomalies: 0.09499519084220233\n"
     ]
    }
   ],
   "source": [
    "half = df1.loc[0:df1.shape[0]/2]    \n",
    "print('Fraction of anomalies:', np.sum(half.Tot_anomalies)/half.shape[0])"
   ]
  },
  {
   "cell_type": "markdown",
   "metadata": {},
   "source": [
    "### Data manipulation 2\n",
    "\n",
    "- Subsample"
   ]
  },
  {
   "cell_type": "code",
   "execution_count": 7,
   "metadata": {},
   "outputs": [
    {
     "name": "stdout",
     "output_type": "stream",
     "text": [
      "Fraction of anomalies: 0.060765034836817014\n"
     ]
    }
   ],
   "source": [
    "df_subs = df1.copy(deep=True)\n",
    "df_subs = df_subs.loc[::6]    # start:stop:step   , subsample every minute\n",
    "print('Fraction of anomalies:', np.sum(df_subs.Tot_anomalies)/df_subs.shape[0])"
   ]
  },
  {
   "cell_type": "markdown",
   "metadata": {},
   "source": [
    "### Apply Data Manipulation 2 to collective case"
   ]
  },
  {
   "cell_type": "code",
   "execution_count": 242,
   "metadata": {},
   "outputs": [],
   "source": [
    "# # Save data as pickle\n",
    "if Case == 1:\n",
    "    name = 'GAK_Anomaly_collective_sub' \n",
    "else:\n",
    "    name = 'T1_T2_Anomaly_collective_sub' \n",
    "\n",
    "file = open(path_base + path_data_processed + name, 'wb')   # open a file, where you want to store the data\n",
    "pickle.dump(df_subs, file, protocol=4)   # dump information to that file\n",
    "file.close()   # close the file"
   ]
  },
  {
   "cell_type": "markdown",
   "metadata": {},
   "source": [
    "----\n",
    "\n",
    "### Apply Data Manipulation 2 to all single sensors"
   ]
  },
  {
   "cell_type": "code",
   "execution_count": 256,
   "metadata": {},
   "outputs": [],
   "source": [
    "# name = 'GAK_Anomaly_labels_timep3'\n",
    "# name = 'GAK_Anomaly_labels_timep4'\n",
    "name = 'GAK_Anomaly_labels_timep3p4'\n",
    "\n",
    "# name = 'T1_T2_Anomaly_labels_timep1'\n",
    "# name = 'T1_T2_Anomaly_labels_timep2'\n",
    "# name = 'T1_T2_Anomaly_labels_timep1p2'\n"
   ]
  },
  {
   "cell_type": "code",
   "execution_count": 257,
   "metadata": {},
   "outputs": [
    {
     "name": "stdout",
     "output_type": "stream",
     "text": [
      "Data shape (2617920, 5)\n",
      "Index(['day', 'time', 'p3', 'p4', 'Anomaly'], dtype='object')\n"
     ]
    }
   ],
   "source": [
    "# Load data file  - Working with collective anomalies\n",
    "    \n",
    "file = open(path_base + path_data_processed + name, 'rb')  # open a file, where you stored the pickled data\n",
    "df1 = pickle.load(file)   # dump information to that file\n",
    "file.close()   # close the file\n",
    "\n",
    "df1.fillna(0, inplace=True)\n",
    "print ('Data shape', df1.shape)\n",
    "print (df1.keys())\n",
    "\n",
    "print('Fraction of anomalies:',np.sum(df1.Anomaly)/df1.shape[0])"
   ]
  },
  {
   "cell_type": "code",
   "execution_count": 259,
   "metadata": {},
   "outputs": [],
   "source": [
    "df_subs = df1.copy(deep=True)\n",
    "df_subs = df_subs.loc[::6]    # start:stop:step   , subsample every minute\n",
    "print('Fraction of anomalies:', np.sum(df_subs.Anomaly)/df_subs.shape[0])"
   ]
  },
  {
   "cell_type": "code",
   "execution_count": 261,
   "metadata": {},
   "outputs": [],
   "source": [
    "# # Save data as pickle\n",
    "\n",
    "name = name + '_sub'\n",
    "file = open(path_base + path_data_processed + name, 'wb')   # open a file, where you want to store the data\n",
    "pickle.dump(df_subs, file, protocol=4)   # dump information to that file\n",
    "file.close()   # close the file"
   ]
  },
  {
   "cell_type": "markdown",
   "metadata": {},
   "source": [
    "-----"
   ]
  },
  {
   "cell_type": "markdown",
   "metadata": {},
   "source": [
    "### Apply Data Manipulation 2 merged case1 and case 2"
   ]
  },
  {
   "cell_type": "code",
   "execution_count": 18,
   "metadata": {},
   "outputs": [
    {
     "name": "stdout",
     "output_type": "stream",
     "text": [
      "Data shape (2617920, 7)\n",
      "Index(['day', 'time', 'p1', 'p2', 'p3', 'p4', 'Tot_anomalies'], dtype='object')\n",
      "Fraction of anomalies: 0.13350102371348246\n"
     ]
    }
   ],
   "source": [
    "# Load data file  - Working with collective anomalies\n",
    "\n",
    "name = 'NEST_Anomaly_collective' \n",
    "    \n",
    "file = open(path_base + path_data_processed + name, 'rb')  # open a file, where you stored the pickled data\n",
    "df1 = pickle.load(file)   # dump information to that file\n",
    "file.close()   # close the file\n",
    "\n",
    "df1.fillna(0, inplace=True)\n",
    "print ('Data shape', df1.shape)\n",
    "print (df1.keys())\n",
    "\n",
    "print('Fraction of anomalies:',np.sum(df1.Tot_anomalies)/df1.shape[0])"
   ]
  },
  {
   "cell_type": "code",
   "execution_count": 23,
   "metadata": {},
   "outputs": [
    {
     "name": "stdout",
     "output_type": "stream",
     "text": [
      "Fraction of anomalies: 0.1436210847975554\n"
     ]
    }
   ],
   "source": [
    "step = 6\n",
    "\n",
    "df_subs = df1.copy(deep=True)\n",
    "df_subs = df_subs.loc[::step]    # start:stop:step   , subsample every minute\n",
    "\n",
    "print('Fraction of anomalies:', np.sum(df_subs.Tot_anomalies)/df_subs.shape[0])"
   ]
  },
  {
   "cell_type": "code",
   "execution_count": 20,
   "metadata": {},
   "outputs": [],
   "source": [
    "# # Save data as pickle\n",
    "\n",
    "name = name + '_sub_' + str(step)\n",
    "\n",
    "file = open(path_base + path_data_processed + name, 'wb')   # open a file, where you want to store the data\n",
    "pickle.dump(df_subs, file, protocol=4)   # dump information to that file\n",
    "file.close()   # close the file"
   ]
  },
  {
   "cell_type": "code",
   "execution_count": null,
   "metadata": {},
   "outputs": [],
   "source": []
  }
 ],
 "metadata": {
  "kernelspec": {
   "display_name": "ML_env",
   "language": "python",
   "name": "ml_env"
  },
  "language_info": {
   "codemirror_mode": {
    "name": "ipython",
    "version": 3
   },
   "file_extension": ".py",
   "mimetype": "text/x-python",
   "name": "python",
   "nbconvert_exporter": "python",
   "pygments_lexer": "ipython3",
   "version": "3.7.3"
  }
 },
 "nbformat": 4,
 "nbformat_minor": 2
}
